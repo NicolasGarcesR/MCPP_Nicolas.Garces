{
 "cells": [
  {
   "cell_type": "markdown",
   "metadata": {},
   "source": [
    "# Vivienda de interés social en Bogotá "
   ]
  },
  {
   "cell_type": "markdown",
   "metadata": {},
   "source": [
    "https://youtu.be/BJp0k3JLyP4"
   ]
  },
  {
   "cell_type": "markdown",
   "metadata": {},
   "source": [
    "<img scr = \"1.png\">"
   ]
  },
  {
   "cell_type": "markdown",
   "metadata": {},
   "source": [
    "Una de las principales estrategias que el ministerio de vivienda ha implementado para atacar el déficit inmobiliario ha sido la construcción y financiación de Viviendas de Interés Social (VIS).La ley define la vivienda de interés social como aquella que es habitable, cumple con estándares de calidad,tiene un valor máximo que no pasa de los 135 SMLM y pertenece al estrato 2 o 3. \n",
    "\n",
    "El objetivo de estos proyectos es dar vivienda digna a los hogares más necesitados con precios asequibles, a la vez que ayuda a aumentar el bienestar social y contribuir a la equidad. Para comprobar que la vivienda de interés social este cumpliendo estos objetivos, tratare de evaluar el espacio que ocupan estos proyectos en el mercado inmobiliario utilizando web-scrapping.\n",
    "Las preguntas a tratar de resolver en este proyecto son las siguientes:\n",
    "\n",
    "-  ¿En el rango de precios entre 100 y 135 millones, las VIS son la mejor opción de vivienda? Que características físicas (número de habitaciones, numero baños, etc) se diferencian en la vivienda no subsidiada de la subsidiada ?\n",
    "\n",
    "-  Hay sectores donde este tipo de vivienda tienda a ser más construida que en otros del mismo estrato? \n",
    "\n",
    "- ¿Logra esta política contribuir al aumento de la equidad a la vez que proporciona vivienda asequible? O, en otras palabras, ¿las VIS son equiparables en términos cuantitativos con otras viviendas del mismo estrato? "
   ]
  },
  {
   "cell_type": "markdown",
   "metadata": {},
   "source": [
    "## Metodología"
   ]
  },
  {
   "cell_type": "markdown",
   "metadata": {},
   "source": [
    "- Scrapping: tomé información de todos los proyectos de interés social disponibles para Bogotá en la página https://www.estrenarvivienda.com/vivienda-interes-social/bogota. Utilicé Selenium y webdriver de Chrome para obetner los datos. Para la vivienda no subsidiada también tomé la información de esta pagina https://www.estrenarvivienda.com/proyectos-vivienda/bogota, de donde tomé los proyectos en los rangos de 100-200 millones y excluí los de interés social comparando los links de acceso. Se utilizó la misma metodología que con las VIS. El código de este proceso se encuentra en el notebook Final_project. \n",
    "\n",
    "- Tratamiento de la información : Para transformar el contenido de los xpath en información útil, procesé los datos extraídos con regex y posteriormente creé dataframes con panda para exportarlo como Excel. El resultado de este proceso son los Excel VIS y NO_VIS que se encuentran en el repositorio. Este trabajo tambien se encuentra en el notebook Final_project \n",
    "\n",
    "- Graficos: Utilicé Mathplotlib para generar los gráficos que se verán a continuación. El código de este proceso se encuentra en el notebook graphs. \n",
    "\n",
    "- Geolocalización: utilicé geopy y folium para transformar las direcciones en coordenadas de latitud y longitud y así realizar el mapa que se puede ver al principio de este read_me. El código de este proceso se encuentra en el notebook MAP \n"
   ]
  },
  {
   "cell_type": "markdown",
   "metadata": {},
   "source": [
    "## Resultados "
   ]
  },
  {
   "cell_type": "markdown",
   "metadata": {},
   "source": [
    "Se obtuvo información de 79 proyectos de interés social y 40 de proyectos no subsidiados. Estos son los análisis gráficos más relevantes. \n"
   ]
  },
  {
   "cell_type": "markdown",
   "metadata": {},
   "source": [
    "<img scr = \"2.png\">"
   ]
  },
  {
   "cell_type": "markdown",
   "metadata": {},
   "source": [
    "<img scr = \"3.png\">"
   ]
  },
  {
   "cell_type": "markdown",
   "metadata": {},
   "source": [
    "<img scr = \"4.png\">"
   ]
  },
  {
   "cell_type": "markdown",
   "metadata": {},
   "source": [
    "<img scr = \"5.png\">"
   ]
  },
  {
   "cell_type": "markdown",
   "metadata": {},
   "source": [
    "<img scr = \"6.png\">"
   ]
  },
  {
   "cell_type": "markdown",
   "metadata": {},
   "source": [
    "<img scr = \"7.png\">"
   ]
  }
 ],
 "metadata": {
  "kernelspec": {
   "display_name": "Python 3",
   "language": "python",
   "name": "python3"
  },
  "language_info": {
   "codemirror_mode": {
    "name": "ipython",
    "version": 3
   },
   "file_extension": ".py",
   "mimetype": "text/x-python",
   "name": "python",
   "nbconvert_exporter": "python",
   "pygments_lexer": "ipython3",
   "version": "3.8.3"
  }
 },
 "nbformat": 4,
 "nbformat_minor": 4
}
