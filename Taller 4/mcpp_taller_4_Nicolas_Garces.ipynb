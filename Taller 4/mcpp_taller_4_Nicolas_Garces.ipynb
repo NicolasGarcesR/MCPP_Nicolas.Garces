{
 "cells": [
  {
   "cell_type": "markdown",
   "metadata": {},
   "source": [
    "# Taller 4\n",
    "Métodos Computacionales para Políticas Públicas - URosario\n",
    "\n",
    "**Entrega: viernes 11-sep-2020 11:59 PM**"
   ]
  },
  {
   "cell_type": "markdown",
   "metadata": {},
   "source": [
    "<div class=\"alert alert-success\">\n",
    "\n",
    "**[Nicolás Garcés R]** <br><br>\n",
    "[nicolas.garces@urosario.edu.co]\n",
    "</div>"
   ]
  },
  {
   "cell_type": "markdown",
   "metadata": {},
   "source": [
    "## Instrucciones:\n",
    "- Guarde una copia de este *Jupyter Notebook* en su computador, idealmente en una carpeta destinada al material del curso.\n",
    "- Modifique el nombre del archivo del *notebook*, agregando al final un guión inferior y su nombre y apellido, separados estos últimos por otro guión inferior. Por ejemplo, mi *notebook* se llamaría: mcpp_taller4_santiago_matallana\n",
    "- Marque el *notebook* con su nombre y e-mail en el bloque verde arriba. Reemplace el texto \"[Su nombre acá]\" con su nombre y apellido. Similar para su e-mail.\n",
    "- Desarrolle la totalidad del taller sobre este *notebook*, insertando las celdas que sea necesario debajo de cada pregunta. Haga buen uso de las celdas para código y de las celdas tipo *markdown* según el caso.\n",
    "- Recuerde salvar periódicamente sus avances.\n",
    "- Cuando termine el taller:\n",
    "    1. Descárguelo en PDF.\n",
    "    2. Suba los dos archivos (.pdf y .ipynb) a su repositorio en GitHub antes de la fecha y hora límites.\n",
    "\n",
    "(Todos los ejercicios tienen el mismo valor.)"
   ]
  },
  {
   "cell_type": "markdown",
   "metadata": {},
   "source": [
    "---"
   ]
  },
  {
   "cell_type": "markdown",
   "metadata": {},
   "source": [
    "## Zelle, Exercises 6.8 (p. 159):\n",
    "\n",
    "- True/False: 1-10\n",
    "- Multiple choice: 2, 3, 6, 7, 10\n",
    "- Programming Exercises: 1, 3, 4, 11, 12, 13"
   ]
  },
  {
   "cell_type": "markdown",
   "metadata": {},
   "source": [
    "### True/False"
   ]
  },
  {
   "cell_type": "markdown",
   "metadata": {},
   "source": [
    "#### 1. Programmers rarely define their own functions."
   ]
  },
  {
   "cell_type": "markdown",
   "metadata": {},
   "source": [
    "FALSE"
   ]
  },
  {
   "cell_type": "markdown",
   "metadata": {},
   "source": [
    "#### 2. A function may only be called at one place in a program."
   ]
  },
  {
   "cell_type": "markdown",
   "metadata": {},
   "source": [
    "FALSE"
   ]
  },
  {
   "cell_type": "markdown",
   "metadata": {},
   "source": [
    "#### 3. Information can be passed into a function through parameters."
   ]
  },
  {
   "cell_type": "markdown",
   "metadata": {},
   "source": [
    "TRUE"
   ]
  },
  {
   "cell_type": "markdown",
   "metadata": {},
   "source": [
    "#### 4. Every Python function returns some value."
   ]
  },
  {
   "cell_type": "markdown",
   "metadata": {},
   "source": [
    "FALSE"
   ]
  },
  {
   "cell_type": "markdown",
   "metadata": {},
   "source": [
    "#### 5. In Python, some parameters are passed by reference."
   ]
  },
  {
   "cell_type": "markdown",
   "metadata": {},
   "source": [
    "FALSE"
   ]
  },
  {
   "cell_type": "markdown",
   "metadata": {},
   "source": [
    "#### 6. In Python, a function can return only one value."
   ]
  },
  {
   "cell_type": "markdown",
   "metadata": {},
   "source": [
    "FALSE"
   ]
  },
  {
   "cell_type": "markdown",
   "metadata": {},
   "source": [
    "#### 7. Python functions can never modify a parameter."
   ]
  },
  {
   "cell_type": "markdown",
   "metadata": {},
   "source": [
    "FALSE"
   ]
  },
  {
   "cell_type": "markdown",
   "metadata": {},
   "source": [
    "#### 8. One reason to use functions is to reduce code duplication."
   ]
  },
  {
   "cell_type": "markdown",
   "metadata": {},
   "source": [
    "TRUE"
   ]
  },
  {
   "cell_type": "markdown",
   "metadata": {},
   "source": [
    "#### 9. Variables defined in a function are local to that function."
   ]
  },
  {
   "cell_type": "markdown",
   "metadata": {},
   "source": [
    "TRUE"
   ]
  },
  {
   "cell_type": "markdown",
   "metadata": {},
   "source": [
    "#### 10. It’s a bad idea to define new functions if it makes a program longer."
   ]
  },
  {
   "cell_type": "markdown",
   "metadata": {},
   "source": [
    "FALSE"
   ]
  },
  {
   "cell_type": "markdown",
   "metadata": {},
   "source": [
    "### Multiple Choice"
   ]
  },
  {
   "cell_type": "markdown",
   "metadata": {},
   "source": [
    "#### 1. The part of a program that uses a function is called the"
   ]
  },
  {
   "cell_type": "markdown",
   "metadata": {},
   "source": [
    "b) caller"
   ]
  },
  {
   "cell_type": "markdown",
   "metadata": {},
   "source": [
    "#### 2. A Python function definition begins with"
   ]
  },
  {
   "cell_type": "markdown",
   "metadata": {},
   "source": [
    "a) def"
   ]
  },
  {
   "cell_type": "markdown",
   "metadata": {},
   "source": [
    "#### 3. A function can send output back to the program with a(n)"
   ]
  },
  {
   "cell_type": "markdown",
   "metadata": {},
   "source": [
    "a) return"
   ]
  },
  {
   "cell_type": "markdown",
   "metadata": {},
   "source": [
    "#### 4. Formal and actual parameters are matched up by\n"
   ]
  },
  {
   "cell_type": "markdown",
   "metadata": {},
   "source": [
    "b) position"
   ]
  },
  {
   "cell_type": "markdown",
   "metadata": {},
   "source": [
    "#### 5. Which of the following is not a step in the function calling process?"
   ]
  },
  {
   "cell_type": "markdown",
   "metadata": {},
   "source": [
    "d) control returns to the point just before the function was called."
   ]
  },
  {
   "cell_type": "markdown",
   "metadata": {},
   "source": [
    "#### 6. In Python, actual parameters are passed to functions"
   ]
  },
  {
   "cell_type": "markdown",
   "metadata": {},
   "source": [
    "a) by value"
   ]
  },
  {
   "cell_type": "markdown",
   "metadata": {},
   "source": [
    "#### 7. Which of the following is not a reason to use functions?"
   ]
  },
  {
   "cell_type": "markdown",
   "metadata": {},
   "source": [
    "d) to demonstrate intellectual superiority"
   ]
  },
  {
   "cell_type": "markdown",
   "metadata": {},
   "source": [
    "#### 8. If a function returns a value, it should generally be called from"
   ]
  },
  {
   "cell_type": "markdown",
   "metadata": {},
   "source": [
    "a) an expression"
   ]
  },
  {
   "cell_type": "markdown",
   "metadata": {},
   "source": [
    "#### 9. A function with no return statement returns"
   ]
  },
  {
   "cell_type": "markdown",
   "metadata": {},
   "source": [
    "a) nothing"
   ]
  },
  {
   "cell_type": "markdown",
   "metadata": {},
   "source": [
    "#### 10. A function can modify the value of an actual parameter only if it’s"
   ]
  },
  {
   "cell_type": "markdown",
   "metadata": {},
   "source": [
    "a) mutable"
   ]
  },
  {
   "cell_type": "markdown",
   "metadata": {},
   "source": [
    "### Programming Exercises"
   ]
  },
  {
   "cell_type": "markdown",
   "metadata": {},
   "source": [
    "#### 1. Write a program to print the lyrics of the song “Old MacDonald.” Your program should print the lyrics for five different animals, similar to the example verse below."
   ]
  },
  {
   "cell_type": "code",
   "execution_count": 11,
   "metadata": {},
   "outputs": [],
   "source": [
    "def Old_MacDonald_song():\n",
    "    animals =[('cow', 'moo'),('pig','oink'),('chicken','cluck'),('dog','whof'),('cat','miau')]\n",
    "\n",
    "    for i in range(0,len(animals)):\n",
    "        print(\"Old MacDonald had a farm, Ee-igh, Ee-igh, Oh!\")\n",
    "        print(f\"And on that farm he had a {animals[i][0]},Ee-igh, Ee-igh, Oh!\")\n",
    "        print(f\"Oh! With a {animals[i][1]}, {animals[i][1]} here and a {animals[i][1]}, {animals[i][1]} there.\") \n",
    "        print(f\"Here a {animals[i][1]}, there a {animals[i][1]}, everywhere a {animals[i][1]}, {animals[i][1]}.\")\n",
    "        print(\"Old MacDonald had a farm, Ee-igh, Ee-igh, Oh!\")\n",
    "        print(\"\\n\")\n",
    "   \n",
    "          \n",
    "\n",
    "\n",
    "\n",
    "\n",
    "\n",
    "\n"
   ]
  },
  {
   "cell_type": "code",
   "execution_count": 12,
   "metadata": {},
   "outputs": [
    {
     "name": "stdout",
     "output_type": "stream",
     "text": [
      "Old MacDonald had a farm, Ee-igh, Ee-igh, Oh!\n",
      "And on that farm he had a cow,Ee-igh, Ee-igh, Oh!\n",
      "Oh! With a moo, moo here and a moo, moo there.\n",
      "Here a moo, there a moo, everywhere a moo, moo.\n",
      "Old MacDonald had a farm, Ee-igh, Ee-igh, Oh!\n",
      "\n",
      "\n",
      "Old MacDonald had a farm, Ee-igh, Ee-igh, Oh!\n",
      "And on that farm he had a pig,Ee-igh, Ee-igh, Oh!\n",
      "Oh! With a oink, oink here and a oink, oink there.\n",
      "Here a oink, there a oink, everywhere a oink, oink.\n",
      "Old MacDonald had a farm, Ee-igh, Ee-igh, Oh!\n",
      "\n",
      "\n",
      "Old MacDonald had a farm, Ee-igh, Ee-igh, Oh!\n",
      "And on that farm he had a chicken,Ee-igh, Ee-igh, Oh!\n",
      "Oh! With a cluck, cluck here and a cluck, cluck there.\n",
      "Here a cluck, there a cluck, everywhere a cluck, cluck.\n",
      "Old MacDonald had a farm, Ee-igh, Ee-igh, Oh!\n",
      "\n",
      "\n",
      "Old MacDonald had a farm, Ee-igh, Ee-igh, Oh!\n",
      "And on that farm he had a dog,Ee-igh, Ee-igh, Oh!\n",
      "Oh! With a whof, whof here and a whof, whof there.\n",
      "Here a whof, there a whof, everywhere a whof, whof.\n",
      "Old MacDonald had a farm, Ee-igh, Ee-igh, Oh!\n",
      "\n",
      "\n",
      "Old MacDonald had a farm, Ee-igh, Ee-igh, Oh!\n",
      "And on that farm he had a cat,Ee-igh, Ee-igh, Oh!\n",
      "Oh! With a miau, miau here and a miau, miau there.\n",
      "Here a miau, there a miau, everywhere a miau, miau.\n",
      "Old MacDonald had a farm, Ee-igh, Ee-igh, Oh!\n",
      "\n",
      "\n"
     ]
    }
   ],
   "source": [
    "Old_MacDonald_song()\n"
   ]
  },
  {
   "cell_type": "markdown",
   "metadata": {},
   "source": [
    "#### 3. Write definitions for these functions:\n",
    "#### sphereArea(radius) Returns the surface area of a sphere having the given radius.\n",
    "#### sphereVolume(radius) Returns the volume of a sphere having the given radius."
   ]
  },
  {
   "cell_type": "code",
   "execution_count": 7,
   "metadata": {},
   "outputs": [],
   "source": [
    "def sphereArea(radius):\n",
    "    p=3.1415926 \n",
    "    s= 4*p * radius * radius\n",
    "    print(f\"The area of the sphere is {s}\")"
   ]
  },
  {
   "cell_type": "code",
   "execution_count": 8,
   "metadata": {},
   "outputs": [
    {
     "name": "stdout",
     "output_type": "stream",
     "text": [
      "The area of the sphere is 1256.63704\n"
     ]
    }
   ],
   "source": [
    "sphereArea(10)"
   ]
  },
  {
   "cell_type": "code",
   "execution_count": 9,
   "metadata": {},
   "outputs": [],
   "source": [
    "def sphereVolume(radius):\n",
    "    p=3.1415926\n",
    "    v= 4/3*p*radius*radius*radius\n",
    "    print(f\"The volume of the sphere is {v}\")"
   ]
  },
  {
   "cell_type": "code",
   "execution_count": 10,
   "metadata": {
    "scrolled": true
   },
   "outputs": [
    {
     "name": "stdout",
     "output_type": "stream",
     "text": [
      "The volume of the sphere is 268082.5685333333\n"
     ]
    }
   ],
   "source": [
    "sphereVolume(40)"
   ]
  },
  {
   "cell_type": "markdown",
   "metadata": {},
   "source": [
    "#### Use your functions to solve Programming Exercise 1 from Chapter 3."
   ]
  },
  {
   "cell_type": "code",
   "execution_count": 6,
   "metadata": {},
   "outputs": [
    {
     "name": "stdout",
     "output_type": "stream",
     "text": [
      "introduzca el radio de una esfera:3\n",
      "The area of the sphere is 113.09733360000001\n",
      "The volume of the sphere is 113.09733359999998\n"
     ]
    }
   ],
   "source": [
    "def function():\n",
    "    x= int(input(\"introduzca el radio de una esfera:\"))\n",
    "    sphereArea(x)\n",
    "    sphereVolume(x)\n",
    "  \n",
    "function()  "
   ]
  },
  {
   "cell_type": "markdown",
   "metadata": {},
   "source": [
    "#### 4. Write definitions for the following two functions:\n",
    "#### sumN(n) returns the sum of the first n natural numbers.\n",
    "#### sumNCubes(n) returns the sum of the cubes of the first n natural numbers.\n"
   ]
  },
  {
   "cell_type": "code",
   "execution_count": 13,
   "metadata": {},
   "outputs": [],
   "source": [
    "def sumN(n):\n",
    "    a=0\n",
    "    for i in range(0,n+1):        \n",
    "        a=a+i\n",
    "    return a\n",
    "        "
   ]
  },
  {
   "cell_type": "code",
   "execution_count": 14,
   "metadata": {},
   "outputs": [
    {
     "data": {
      "text/plain": [
       "55"
      ]
     },
     "execution_count": 14,
     "metadata": {},
     "output_type": "execute_result"
    }
   ],
   "source": [
    "sumN(10)"
   ]
  },
  {
   "cell_type": "code",
   "execution_count": 15,
   "metadata": {},
   "outputs": [],
   "source": [
    "def sumNCubes(n):\n",
    "    a=0\n",
    "    for i in range(0,n+1):        \n",
    "        a=a+(i*i)\n",
    "    return a\n",
    "    "
   ]
  },
  {
   "cell_type": "code",
   "execution_count": 16,
   "metadata": {},
   "outputs": [
    {
     "data": {
      "text/plain": [
       "14"
      ]
     },
     "execution_count": 16,
     "metadata": {},
     "output_type": "execute_result"
    }
   ],
   "source": [
    "sumNCubes(3)"
   ]
  },
  {
   "cell_type": "code",
   "execution_count": 17,
   "metadata": {},
   "outputs": [
    {
     "name": "stdout",
     "output_type": "stream",
     "text": [
      "introduzca un numero4\n",
      "the sum of the first 4 natural numbers is: 10\n",
      "the sum of the cubes of the first 4 natural numbers is: 30\n"
     ]
    }
   ],
   "source": [
    "def sumN(n):\n",
    "    a=0\n",
    "    for i in range(0,n+1):        \n",
    "        a=a+i\n",
    "    return a\n",
    "def sumNCubes(n):\n",
    "    a=0\n",
    "    for i in range(0,n+1):        \n",
    "        a=a+(i*i)\n",
    "    return a\n",
    "    \n",
    "x= int(input(\"introduzca un numero\"))\n",
    "print(f\"the sum of the first {x} natural numbers is: {sumN(x)}\")\n",
    "print(f\"the sum of the cubes of the first {x} natural numbers is: {sumNCubes(x)}\")"
   ]
  },
  {
   "cell_type": "markdown",
   "metadata": {},
   "source": [
    "#### 11. Write and test a function to meet this specification.\n",
    "#### squareEach(nums) nums is a list of numbers. Modifies the list by squaring each entry.\n"
   ]
  },
  {
   "cell_type": "code",
   "execution_count": 18,
   "metadata": {},
   "outputs": [],
   "source": [
    "def squareEach(nums):   \n",
    "    for i in range(0,len(nums)):\n",
    "        a= nums[i]*nums[i]\n",
    "        nums[i]=a\n",
    "    print(nums)\n"
   ]
  },
  {
   "cell_type": "code",
   "execution_count": 19,
   "metadata": {},
   "outputs": [
    {
     "name": "stdout",
     "output_type": "stream",
     "text": [
      "[4, 16, 36, 64, 100]\n"
     ]
    }
   ],
   "source": [
    "squareEach([2,4,6,8,10])"
   ]
  },
  {
   "cell_type": "markdown",
   "metadata": {},
   "source": [
    "#### 12. Write and test a function to meet this specification.\n",
    "#### sumList(nums) nums is a list of numbers. Returns the sum of the numbers in the list."
   ]
  },
  {
   "cell_type": "code",
   "execution_count": 20,
   "metadata": {},
   "outputs": [],
   "source": [
    "def sumList(nums):    \n",
    "    a=0\n",
    "    for i in range(0,len(nums)):      \n",
    "        a= a + nums[i]\n",
    "    print(a)\n",
    "    "
   ]
  },
  {
   "cell_type": "code",
   "execution_count": 21,
   "metadata": {},
   "outputs": [
    {
     "name": "stdout",
     "output_type": "stream",
     "text": [
      "20\n"
     ]
    }
   ],
   "source": [
    "sumList([2,3,4,5,6])"
   ]
  },
  {
   "cell_type": "markdown",
   "metadata": {},
   "source": [
    "#### 13. Write and test a function to meet this specification.\n",
    "#### toNumbers(strList) strList is a list of strings, each of which represents a number. Modi- fies each entry in the list by converting it to a number."
   ]
  },
  {
   "cell_type": "code",
   "execution_count": 22,
   "metadata": {},
   "outputs": [],
   "source": [
    "def toNumbers(strList):\n",
    "    num = [] *len(strList) \n",
    "    for i in range(len(strList)):\n",
    "        num.append(eval(strList[i]))\n",
    "    print(num)"
   ]
  },
  {
   "cell_type": "code",
   "execution_count": 23,
   "metadata": {},
   "outputs": [
    {
     "name": "stdout",
     "output_type": "stream",
     "text": [
      "[345, 289, 2, 4, 97]\n"
     ]
    }
   ],
   "source": [
    "toNumbers(['345','289','2','4','97'])"
   ]
  },
  {
   "cell_type": "markdown",
   "metadata": {},
   "source": [
    "---"
   ]
  }
 ],
 "metadata": {
  "anaconda-cloud": {},
  "kernelspec": {
   "display_name": "Python 3",
   "language": "python",
   "name": "python3"
  },
  "language_info": {
   "codemirror_mode": {
    "name": "ipython",
    "version": 3
   },
   "file_extension": ".py",
   "mimetype": "text/x-python",
   "name": "python",
   "nbconvert_exporter": "python",
   "pygments_lexer": "ipython3",
   "version": "3.8.3"
  }
 },
 "nbformat": 4,
 "nbformat_minor": 1
}
