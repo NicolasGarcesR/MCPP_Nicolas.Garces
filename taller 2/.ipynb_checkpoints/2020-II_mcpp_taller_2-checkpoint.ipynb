{
 "cells": [
  {
   "cell_type": "markdown",
   "metadata": {},
   "source": [
    "# Taller 2\n",
    "Métodos Computacionales para Políticas Públicas - URosario\n",
    "\n",
    "**Entrega: viernes 28-ago-2020 11:59 PM**"
   ]
  },
  {
   "cell_type": "markdown",
   "metadata": {},
   "source": [
    "<div class=\"alert alert-success\">\n",
    "\n",
    "**[Nicolás Garcés Rodríguez]** <br><br>\n",
    "[nicolas.garces@urosario.edu.co]\n",
    "</div>"
   ]
  },
  {
   "cell_type": "markdown",
   "metadata": {},
   "source": [
    "## Instrucciones:\n",
    "- Guarde una copia de este *Jupyter Notebook* en su computador, idealmente en una carpeta destinada al material del curso.\n",
    "- Modifique el nombre del archivo del *notebook*, agregando al final un guión inferior y su nombre y apellido, separados estos últimos por otro guión inferior. Por ejemplo, mi *notebook* se llamaría: mcpp_taller2_santiago_matallana\n",
    "- Marque el *notebook* con su nombre y e-mail en el bloque verde arriba. Reemplace el texto \"[Su nombre acá]\" con su nombre y apellido. Similar para su e-mail.\n",
    "- Desarrolle la totalidad del taller sobre este *notebook*, insertando las celdas que sea necesario debajo de cada pregunta. Haga buen uso de las celdas para código y de las celdas tipo *markdown* según el caso.\n",
    "- Recuerde salvar periódicamente sus avances.\n",
    "- Cuando termine el taller:\n",
    "    1. Descárguelo en PDF.\n",
    "    2. Suba los dos archivos (.pdf y .ipynb) a su repositorio en GitHub antes de la fecha y hora límites.\n",
    "\n",
    "(El valor de cada ejercicio está en corchetes [ ] después del número de ejercicio.)"
   ]
  },
  {
   "cell_type": "markdown",
   "metadata": {},
   "source": [
    "---"
   ]
  },
  {
   "cell_type": "markdown",
   "metadata": {},
   "source": [
    "## 1. [1]\n",
    "\n",
    "[Pensar como un computador] Considere el siguiente código:"
   ]
  },
  {
   "cell_type": "raw",
   "metadata": {},
   "source": [
    "if x > 2:\n",
    "    if y > 2:\n",
    "        z = x + y\n",
    "        print(\"z es\", z)\n",
    "else:\n",
    "    print(x)"
   ]
  },
  {
   "cell_type": "markdown",
   "metadata": {},
   "source": [
    "¿Cuál es el resultado si\n",
    "\n",
    "a)  x = 2, y = 5?\n",
    "\n",
    "b)  x = 3, y = 1?\n",
    "\n",
    "c)  x = 1, y = 1? \n",
    "\n",
    "d)  x = 4, y = 3?"
   ]
  },
  {
   "cell_type": "markdown",
   "metadata": {},
   "source": [
    "#### a)  x = 2, y = 5?"
   ]
  },
  {
   "cell_type": "markdown",
   "metadata": {},
   "source": [
    "x no es >2, entonces el if no entrará en acción. Por ende solo se imprimirá x. El resultado será 2\n",
    "\n",
    "\n"
   ]
  },
  {
   "cell_type": "code",
   "execution_count": 6,
   "metadata": {},
   "outputs": [
    {
     "name": "stdout",
     "output_type": "stream",
     "text": [
      "2\n"
     ]
    }
   ],
   "source": [
    "x=2\n",
    "y= 5\n",
    "if x > 2:\n",
    "    if y > 2:\n",
    "        z = x + y\n",
    "        print(\"z es\", z)\n",
    "else:\n",
    "    print(x)"
   ]
  },
  {
   "cell_type": "markdown",
   "metadata": {},
   "source": [
    " #### b)  x = 3, y = 1?"
   ]
  },
  {
   "cell_type": "markdown",
   "metadata": {},
   "source": [
    "x si es > 2, pero Y no cumple su condicional (1 no es >3), como no hay otra condición para cuándo y sea menor o igual a 2 el código no tendrá ningún output. "
   ]
  },
  {
   "cell_type": "code",
   "execution_count": 7,
   "metadata": {},
   "outputs": [],
   "source": [
    "x=3\n",
    "y=1\n",
    "if x > 2:\n",
    "    if y > 2:\n",
    "        z = x + y\n",
    "        print(\"z es\", z)\n",
    "else:\n",
    "    print(x)"
   ]
  },
  {
   "cell_type": "markdown",
   "metadata": {},
   "source": [
    "#### c)  x = 1, y = 1? "
   ]
  },
  {
   "cell_type": "markdown",
   "metadata": {},
   "source": [
    "x no cumple la primera condición, entonces solo se imprimirá x. el resultado es 1.\n"
   ]
  },
  {
   "cell_type": "code",
   "execution_count": 8,
   "metadata": {},
   "outputs": [
    {
     "name": "stdout",
     "output_type": "stream",
     "text": [
      "1\n"
     ]
    }
   ],
   "source": [
    "x=1\n",
    "y=1\n",
    "if x > 2:\n",
    "    if y > 2:\n",
    "        z = x + y\n",
    "        print(\"z es\", z)\n",
    "else:\n",
    "    print(x)"
   ]
  },
  {
   "cell_type": "markdown",
   "metadata": {},
   "source": [
    "#### d)  x = 4, y = 3?"
   ]
  },
  {
   "cell_type": "markdown",
   "metadata": {},
   "source": [
    "tanto x como y cumplen con las condiciones de sus if, por ende el output será: \"z es 7\", donde z es la suma de x y Y."
   ]
  },
  {
   "cell_type": "code",
   "execution_count": 9,
   "metadata": {},
   "outputs": [
    {
     "name": "stdout",
     "output_type": "stream",
     "text": [
      "z es 7\n"
     ]
    }
   ],
   "source": [
    "x=4\n",
    "y=3\n",
    "if x > 2:\n",
    "    if y > 2:\n",
    "        z = x + y\n",
    "        print(\"z es\", z)\n",
    "else:\n",
    "    print(x)"
   ]
  },
  {
   "cell_type": "markdown",
   "metadata": {},
   "source": [
    "\n",
    "-----"
   ]
  },
  {
   "cell_type": "markdown",
   "metadata": {},
   "source": [
    "## 2. [1]\n",
    "[Pensar como un computador] ¿Cuál es el resultado del siguiente código y cuántas veces se recorre el loop?"
   ]
  },
  {
   "cell_type": "raw",
   "metadata": {},
   "source": [
    "i = 0\n",
    "while i < 10:\n",
    "    i = i + 1\n",
    "    if i % 2 == 0:\n",
    "        print(i)"
   ]
  },
  {
   "cell_type": "markdown",
   "metadata": {},
   "source": [
    "El codigo tendrá como output los numeros 2,4,6 y 8. El loop se correrá 10 veces. cada vez que i pase por el loop ira creciendo de a una unidad, pero la condicion para imprimir solo se cumplira cada dos loop (cuando i sea par), sin contar el loop inicial, por ende solo generará un output cuando este en un numero de repeticiones impar.\n",
    "\n",
    " "
   ]
  },
  {
   "cell_type": "markdown",
   "metadata": {},
   "source": [
    "---"
   ]
  },
  {
   "cell_type": "markdown",
   "metadata": {},
   "source": [
    "## 3. [1]\n",
    "[Pensar como un computador] ¿Cuál es el resultado del siguiente código y cuántas veces se recorre el loop?"
   ]
  },
  {
   "cell_type": "raw",
   "metadata": {},
   "source": [
    "i = 0\n",
    "while i > 10:\n",
    "    i = i + 1\n",
    "    if i % 2 == 0:\n",
    "        print(i)"
   ]
  },
  {
   "cell_type": "markdown",
   "metadata": {},
   "source": [
    "El código no tendra ningun output. como el loop while corre solo cuando i > 10. Como i no cumple esa condicion, no pasará nada.\n"
   ]
  },
  {
   "cell_type": "markdown",
   "metadata": {},
   "source": [
    "\n",
    "\n",
    "\n",
    "\n",
    "\n",
    "---"
   ]
  },
  {
   "cell_type": "markdown",
   "metadata": {},
   "source": [
    "## 4.  [2]\n",
    "Escriba un programa que pida al usuario ingresar un número entero, y que imprima \"par\" si el número es par e \"impar\" si el número es impar. Agregue a su programa un código que genere una advertencia en caso de que el usuario ingrese algo diferente a un número entero: \"Error. El usuario debe ingresar un número entero.\" (Investigue por su cuenta cómo lograr dicha validación y la generación del mensaje.)"
   ]
  },
  {
   "cell_type": "code",
   "execution_count": 10,
   "metadata": {},
   "outputs": [
    {
     "name": "stdout",
     "output_type": "stream",
     "text": [
      "ingrese un numero entero:4.79\n",
      "Error. El usuario debe ingresar un número entero.\n",
      "ingrese un numero entero:2.4\n",
      "Error. El usuario debe ingresar un número entero.\n",
      "ingrese un numero entero:6\n",
      "6 es par\n"
     ]
    }
   ],
   "source": [
    "num = float(input(\"ingrese un numero entero:\"))\n",
    "while num % 1 > 0:\n",
    "    print(\"Error. El usuario debe ingresar un número entero.\")\n",
    "    num = float(input(\"ingrese un numero entero:\"))\n",
    "x = int(num)\n",
    "if  x % 2 == 0:\n",
    "    print(f\"{x} es par\")\n",
    "else:\n",
    "    print(f\"{x} es impar\")\n",
    " \n",
    "\n",
    "\n"
   ]
  },
  {
   "cell_type": "markdown",
   "metadata": {},
   "source": [
    "---"
   ]
  },
  {
   "cell_type": "markdown",
   "metadata": {},
   "source": [
    "## 5.  [2]\n",
    "Escriba un <font face=\"consolas\">for</font> loop que imprima todos los múltiplos de 3 desde 40 hasta 0 en orden decreciente. Esto es, 39, 36, 33,..., 3, 0."
   ]
  },
  {
   "cell_type": "code",
   "execution_count": 11,
   "metadata": {},
   "outputs": [
    {
     "name": "stdout",
     "output_type": "stream",
     "text": [
      "39\n",
      "36\n",
      "33\n",
      "30\n",
      "27\n",
      "24\n",
      "21\n",
      "18\n",
      "15\n",
      "12\n",
      "9\n",
      "6\n",
      "3\n",
      "0\n"
     ]
    }
   ],
   "source": [
    "for i in reversed(range(0,40)):\n",
    "    if i%3 == 0:\n",
    "        print(i)\n",
    "    \n",
    "        \n",
    "     \n",
    "    "
   ]
  },
  {
   "cell_type": "markdown",
   "metadata": {},
   "source": [
    "---"
   ]
  },
  {
   "cell_type": "markdown",
   "metadata": {},
   "source": [
    "## 6. [2]\n",
    "Escriba un loop que imprima todos los números entre 6 y 30 que no son divisibles por 2, 3 o 5."
   ]
  },
  {
   "cell_type": "code",
   "execution_count": 5,
   "metadata": {},
   "outputs": [
    {
     "name": "stdout",
     "output_type": "stream",
     "text": [
      "7\n",
      "11\n",
      "13\n",
      "17\n",
      "19\n",
      "23\n",
      "29\n"
     ]
    }
   ],
   "source": [
    "for i in range(6,30):\n",
    "    if i%2 != 0 and i%3 != 0 and i%5 != 0:\n",
    "        print(i)\n",
    "       \n",
    "   \n",
    "\n",
    "    \n"
   ]
  },
  {
   "cell_type": "markdown",
   "metadata": {},
   "source": [
    "---"
   ]
  },
  {
   "cell_type": "markdown",
   "metadata": {},
   "source": [
    "## 7. [4]\n",
    "Escriba un programa llamado \"Adivine ni número\". El computador generará aleatoriamente un entero entre 1 y 100. El usuario digita un número y el computador responde \"Menor\" si el número aleatorio es menor que el escogido por el usuario, \"Mayor\" si el número aleatorio es mayor, y \"¡Correcto!\" si el usuario adivina el número. El jugador puede continuar ingresando números hasta que adivine correctamente.\n",
    "\n",
    "**Ejemplo:**\n",
    "- El número aleatorio es 79.\n",
    "- El computador muestra el texto \"Adivine el número entre 1 y 100:\" y espera a que el usuario lo digite.\n",
    "- El usuario digita el número que está abajo en itálicas.\n",
    "- El computador devuelve uno de tres textos, según el caso: \"Mayor\", \"Menor\", o \"¡Correcto!\"."
   ]
  },
  {
   "cell_type": "markdown",
   "metadata": {},
   "source": [
    "<font color=\"green\">Adivine el número entre 1 y 100: *40*<br>\n",
    "<font face=\"consolas\">Mayor</font><br><br>\n",
    "Adivine el número entre 1 y 100: *70*<br>\n",
    "<font face=\"consolas\">Mayor</font><br><br>\n",
    "Adivine el número entre 1 y 100: *80*<br>\n",
    "<font face=\"consolas\">Menor</font><br><br>\n",
    "Adivine el número entre 1 y 100: *77*<br>\n",
    "<font face=\"consolas\">Mayor</font><br><br>\n",
    "Adivine el número entre 1 y 100: *79*<br>\n",
    "<font face=\"consolas\">¡Correcto!</font></font>"
   ]
  },
  {
   "cell_type": "markdown",
   "metadata": {},
   "source": [
    "**¿Cómo generar números aleatorios en Python?**\n",
    "\n",
    "- Al comienzo de su programa escriba: <font face=\"consolas\" color=\"green\">import random</font>\n",
    "- Para generar un número aleatorio entre 1 y 100 escriba: <font face=\"consolas\" color=\"green\">random.randint(1, 100)</font>\n"
   ]
  },
  {
   "cell_type": "markdown",
   "metadata": {},
   "source": [
    "**Pistas:**\n",
    "\n",
    "- Piense en qué estructuras de control le sirven para resolver el problema.\n",
    "- ¿Cómo determina si el número es mayor, menor o correcto?\n",
    "- ¿Cómo le da turnos adicionales al usuario para adivinar, dependiendo de si en el turno anterior adivinó o no?"
   ]
  },
  {
   "cell_type": "code",
   "execution_count": 13,
   "metadata": {},
   "outputs": [
    {
     "name": "stdout",
     "output_type": "stream",
     "text": [
      "Adivine el número\n",
      "Adivine el número entre 1 y 100:46\n",
      "Mayor\n",
      "Adivine el número entre 1 y 100:57\n",
      "Mayor\n",
      "Adivine el número entre 1 y 100:23\n",
      "Mayor\n",
      "Adivine el número entre 1 y 100:10\n",
      "Menor\n",
      "Adivine el número entre 1 y 100:1\n",
      "Menor\n",
      "Adivine el número entre 1 y 100:11\n",
      "Menor\n",
      "Adivine el número entre 1 y 100:12\n",
      "Menor\n",
      "Adivine el número entre 1 y 100:20\n",
      "Mayor\n",
      "Adivine el número entre 1 y 100:17\n",
      "Mayor\n",
      "Adivine el número entre 1 y 100:15\n",
      "Mayor\n",
      "Adivine el número entre 1 y 100:14\n",
      "¡Correcto!\n"
     ]
    }
   ],
   "source": [
    "###### un numero aleatorio para todas las rondas\n",
    "\n",
    "import random\n",
    "print(\"Adivine el número\")\n",
    "ran = random.randint(1, 100)\n",
    "num = int(input(\"Adivine el número entre 1 y 100:\"))\n",
    "while num != ran:\n",
    "    if num > ran:\n",
    "        print(\"Mayor\")\n",
    "    else:\n",
    "        print(\"Menor\")\n",
    "    num =  int(input(\"Adivine el número entre 1 y 100:\"))\n",
    "if num == ran:\n",
    "    print(\"¡Correcto!\")\n",
    "\n",
    "\n"
   ]
  },
  {
   "cell_type": "code",
   "execution_count": null,
   "metadata": {},
   "outputs": [
    {
     "name": "stdout",
     "output_type": "stream",
     "text": [
      "Adivine el número\n",
      "Adivine el número entre 1 y 100:78\n",
      "Menor\n",
      "Adivine el número entre 1 y 100:78\n",
      "Mayor\n",
      "Adivine el número entre 1 y 100:78\n",
      "Mayor\n",
      "Adivine el número entre 1 y 100:78\n",
      "Mayor\n",
      "Adivine el número entre 1 y 100:78\n",
      "Mayor\n",
      "Adivine el número entre 1 y 100:78\n",
      "Mayor\n",
      "Adivine el número entre 1 y 100:78\n",
      "Mayor\n",
      "Adivine el número entre 1 y 100:50\n",
      "Mayor\n",
      "Adivine el número entre 1 y 100:50\n",
      "Mayor\n",
      "Adivine el número entre 1 y 100:50\n",
      "Menor\n"
     ]
    }
   ],
   "source": [
    "###### un numero aleatorio cada ronda \n",
    "\n",
    "import random\n",
    "print(\"Adivine el número\")\n",
    "ran = random.randint(1, 100)\n",
    "num = int(input(\"Adivine el número entre 1 y 100:\"))\n",
    "while num != ran:\n",
    "    if num > ran:\n",
    "        print(\"Mayor\")\n",
    "    else:\n",
    "        print(\"Menor\")\n",
    "    ran = random.randint(1, 100)\n",
    "    num =  int(input(\"Adivine el número entre 1 y 100:\"))\n",
    "    \n",
    "if num == ran:\n",
    "    print(\"¡Correcto!\")\n"
   ]
  },
  {
   "cell_type": "markdown",
   "metadata": {},
   "source": [
    "---"
   ]
  }
 ],
 "metadata": {
  "anaconda-cloud": {},
  "kernelspec": {
   "display_name": "Python 3",
   "language": "python",
   "name": "python3"
  },
  "language_info": {
   "codemirror_mode": {
    "name": "ipython",
    "version": 3
   },
   "file_extension": ".py",
   "mimetype": "text/x-python",
   "name": "python",
   "nbconvert_exporter": "python",
   "pygments_lexer": "ipython3",
   "version": "3.8.3"
  }
 },
 "nbformat": 4,
 "nbformat_minor": 1
}
