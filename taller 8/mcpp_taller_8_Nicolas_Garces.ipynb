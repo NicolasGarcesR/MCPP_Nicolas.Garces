{
 "cells": [
  {
   "cell_type": "markdown",
   "metadata": {},
   "source": [
    "# Taller 8\n",
    "Métodos Computacionales para Políticas Públicas - URosario\n",
    "\n",
    "**Entrega: viernes 6-nov-2020 11:59 PM**"
   ]
  },
  {
   "cell_type": "markdown",
   "metadata": {},
   "source": [
    "\n",
    "<div class=\"alert alert-success\">\n",
    "\n",
    "**[Nicolás Garcés R]** <br><br>\n",
    "[nicolas.garces@urosario.edu.co]\n",
    "</div>"
   ]
  },
  {
   "cell_type": "markdown",
   "metadata": {},
   "source": [
    "## Instrucciones:\n",
    "- Guarde una copia de este *Jupyter Notebook* en su computador, idealmente en una carpeta destinada al material del curso.\n",
    "- Modifique el nombre del archivo del *notebook*, agregando al final un guión inferior y su nombre y apellido, separados estos últimos por otro guión inferior. Por ejemplo, mi *notebook* se llamaría: mcpp_taller8_santiago_matallana\n",
    "- Marque el *notebook* con su nombre y e-mail en el bloque verde arriba. Reemplace el texto \"[Su nombre acá]\" con su nombre y apellido. Similar para su e-mail.\n",
    "- Desarrolle la totalidad del taller sobre este *notebook*, insertando las celdas que sea necesario debajo de cada pregunta. Haga buen uso de las celdas para código y de las celdas tipo *markdown* según el caso.\n",
    "- Recuerde salvar periódicamente sus avances.\n",
    "- Cuando termine el taller:\n",
    "    1. Descárguelo en PDF. Si tiene algún problema con la conversión, descárguelo en HTML.\n",
    "    2. Suba todos los archivos a su repositorio en GitHub, en una carpeta destinada exclusivamente para este taller, antes de la fecha y hora límites."
   ]
  },
  {
   "cell_type": "markdown",
   "metadata": {},
   "source": [
    "---"
   ]
  },
  {
   "cell_type": "markdown",
   "metadata": {},
   "source": [
    "### 1. [1 punto]\n",
    "\n",
    "Usando expresiones regulares extraiga en una lista todos los números presentes en el siguiente objeto de Python:\n",
    "\n",
    "ob1 = \"JEFF BEZOS, the founder of Amazon, has reached a divorce settlement with his wife, MacKenzie. Mr Bezos will keep all the shares in the Washington Post and Blue Origin, a space-exploration firm, as well as 75% of the couple’s Amazon stock. Mrs Bezos will retain a 4% stake in the tech giant, worth nearly $36bn, which is likely to make her the third-richest woman alive when the divorce is finalised.\""
   ]
  },
  {
   "cell_type": "code",
   "execution_count": 7,
   "metadata": {},
   "outputs": [],
   "source": [
    "ob1 = \"JEFF BEZOS, the founder of Amazon, has reached a divorce settlement with his wife, MacKenzie. Mr Bezos will keep all the shares in the Washington Post and Blue Origin, a space-exploration firm, as well as 75% of the couple’s Amazon stock. Mrs Bezos will retain a 4% stake in the tech giant, worth nearly $36bn, which is likely to make her the third-richest woman alive when the divorce is finalised.\""
   ]
  },
  {
   "cell_type": "code",
   "execution_count": 8,
   "metadata": {},
   "outputs": [
    {
     "data": {
      "text/plain": [
       "['75', '4', '36']"
      ]
     },
     "execution_count": 8,
     "metadata": {},
     "output_type": "execute_result"
    }
   ],
   "source": [
    "import re\n",
    "re.findall(\"[0-9]+\",ob1)"
   ]
  },
  {
   "cell_type": "markdown",
   "metadata": {},
   "source": [
    "### 2. [1 punto]\n",
    "\n",
    "Usando expresiones regulares ahora extraiga de *ob1* sólo los números que correspondan a porcentajes."
   ]
  },
  {
   "cell_type": "code",
   "execution_count": 12,
   "metadata": {},
   "outputs": [
    {
     "data": {
      "text/plain": [
       "['75', '4']"
      ]
     },
     "execution_count": 12,
     "metadata": {},
     "output_type": "execute_result"
    }
   ],
   "source": [
    "re.findall(\"([0-9]+)%\",ob1)"
   ]
  },
  {
   "cell_type": "markdown",
   "metadata": {},
   "source": [
    "### 3. [2 puntos]\n",
    "\n",
    "Usando expresiones regulares, escriba una función de Python que reciba una fecha en formato **Marzo 7, 2019** y retorne la fecha en formato **2019-07-03**"
   ]
  },
  {
   "cell_type": "code",
   "execution_count": 1,
   "metadata": {},
   "outputs": [],
   "source": [
    "def dater(x):\n",
    "    import re\n",
    "    y = re.findall(\"([A-Z][a-zA-Z]*)\",x)\n",
    "    if y[0] ==\"Enero\":\n",
    "        yy= \"01\"\n",
    "    elif y[0] ==\"Febrero\":\n",
    "        yy= \"02\"\n",
    "    elif y[0] ==\"Marzo\":\n",
    "        yy= \"03\"\n",
    "    elif y[0] ==\"Abril\":\n",
    "        yy= \"04\"\n",
    "    elif y[0] ==\"Mayo\":\n",
    "        yy= \"05\"\n",
    "    elif y[0] ==\"Junio\":\n",
    "        yy= \"06\"\n",
    "    elif y[0] ==\"Julio\":\n",
    "        yy= \"07\"\n",
    "    elif y[0] ==\"Agosto\":\n",
    "        yy= \"08\"\n",
    "    elif y[0] ==\"Septiembre\":\n",
    "        yy= \"09\"\n",
    "    elif y[0] ==\"Octubre\":\n",
    "        yy= \"10\"\n",
    "    elif y[0] ==\"Noviembre\":\n",
    "        yy= \"11\"\n",
    "    elif y[0] ==\"Diciembre\":\n",
    "        yy= \"12\"\n",
    "    else:\n",
    "        yy=\"00\"\n",
    "    z = re.findall(\"[0-9]+\",x)\n",
    "    zz= z[0]\n",
    "    if len(zz) <= 1:      \n",
    "        zz= \"0\"+zz\n",
    "    else:\n",
    "        zz = zz\n",
    "    zzz= z[1]   \n",
    "    re= zzz + \"-\" + zz + \"-\"+ yy\n",
    "    return re"
   ]
  },
  {
   "cell_type": "code",
   "execution_count": 3,
   "metadata": {},
   "outputs": [
    {
     "data": {
      "text/plain": [
       "'2019-25-09'"
      ]
     },
     "execution_count": 3,
     "metadata": {},
     "output_type": "execute_result"
    }
   ],
   "source": [
    "x = \"Septiembre 25, 2019\"\n",
    "dater(x)"
   ]
  },
  {
   "cell_type": "code",
   "execution_count": 4,
   "metadata": {},
   "outputs": [
    {
     "data": {
      "text/plain": [
       "'2019-07-03'"
      ]
     },
     "execution_count": 4,
     "metadata": {},
     "output_type": "execute_result"
    }
   ],
   "source": [
    "x = \"Marzo 7, 2019\"\n",
    "dater(x)"
   ]
  },
  {
   "cell_type": "markdown",
   "metadata": {},
   "source": [
    "### 4. [3 puntos]\n",
    "\n",
    "*ob2* es un string que reune una lista de clases en una universidad. Use expresiones regulares para extraer los códigos de cada una de las clases. Ejemplo: El código de la clase **COMPSCI 143 (Spring 2012): Machine Learning** es 143.\n",
    "\n",
    "ob2 = \"COMPSCI 270 (Spring 2019): Introduction to Artificial Intelligence.\n",
    "COMPSCI 590.2 (Fall 2018): Computational Microeconomics: Game Theory, Social Choice, and Mechanism Design.\n",
    "COMPSCI 223 (Spring 2018): Computational Microeconomics.\n",
    "COMPSCI 570 (Fall 2017): Artificial Intelligence.\n",
    "COMPSCI 590.3 (Fall 2017) / 590.1 (Spring 2018): Ethics and AI.\n",
    "COMPSCI 590.2 (Spring 2017): Computation, Information, and Learning in Market Design.\n",
    "COMPSCI 590.4 (Spring 2016): Computational Microeconomics: Game Theory, Social Choice, and Mechanism Design.\n",
    "COMPSCI 290.4/590.4 (Spring 2015): Crowdsourcing Societal Tradeoffs.\n",
    "COMPSCI 570 (Fall 2014): Artificial Intelligence.\n",
    "COMPSCI 590.4 (Spring 2014): Computational Microeconomics: Game Theory, Social Choice, and Mechanism Design.\n",
    "COMPSCI 590.1 (Fall 2012): Linear and Integer Programming.\n",
    "COMPSCI 173 (Spring 2012): Computational Microeconomics.\n",
    "COMPSCI 296.1 (Fall 2011): Computational Microeconomics: Game Theory, Social Choice, and Mechanism Design.\n",
    "COMPSCI 296.1 (Fall 2010): Linear and Integer Programming.\n",
    "COMPSCI 173 (Spring 2010): Computational Microeconomics.\n",
    "COMPSCI 196.1/296.1 (Fall 2009): Computational Microeconomics: Game Theory, Social Choice, and Mechanism Design.\n",
    "COMPSCI 170 (Spring 2009): Introduction to Artificial Intelligence.\n",
    "COMPSCI 270 (Fall 2008): Artificial Intelligence.\n",
    "COMPSCI 196/296.2 (Spring 2008): Linear and Integer Programming.\n",
    "COMPSCI 196.2 (Fall 2007): Introduction to Computational Economics.\n",
    "COMPSCI 296.3 (Spring 2007): Topics in Computational Economics.\n",
    "COMPSCI 296.2 (Fall 2006): Computational Game Theory and Mechanism Design.\"\n"
   ]
  },
  {
   "cell_type": "code",
   "execution_count": 24,
   "metadata": {},
   "outputs": [],
   "source": [
    "ob2 = \"COMPSCI 270 (Spring 2019): Introduction to Artificial Intelligence. COMPSCI 590.2 (Fall 2018): Computational Microeconomics: Game Theory, Social Choice, and Mechanism Design. COMPSCI 223 (Spring 2018): Computational Microeconomics. COMPSCI 570 (Fall 2017): Artificial Intelligence. COMPSCI 590.3 (Fall 2017) / 590.1 (Spring 2018): Ethics and AI. COMPSCI 590.2 (Spring 2017): Computation, Information, and Learning in Market Design. COMPSCI 590.4 (Spring 2016): Computational Microeconomics: Game Theory, Social Choice, and Mechanism Design. COMPSCI 290.4/590.4 (Spring 2015): Crowdsourcing Societal Tradeoffs. COMPSCI 570 (Fall 2014): Artificial Intelligence. COMPSCI 590.4 (Spring 2014): Computational Microeconomics: Game Theory, Social Choice, and Mechanism Design. COMPSCI 590.1 (Fall 2012): Linear and Integer Programming. COMPSCI 173 (Spring 2012): Computational Microeconomics. COMPSCI 296.1 (Fall 2011): Computational Microeconomics: Game Theory, Social Choice, and Mechanism Design. COMPSCI 296.1 (Fall 2010): Linear and Integer Programming. COMPSCI 173 (Spring 2010): Computational Microeconomics. COMPSCI 196.1/296.1 (Fall 2009): Computational Microeconomics: Game Theory, Social Choice, and Mechanism Design. COMPSCI 170 (Spring 2009): Introduction to Artificial Intelligence. COMPSCI 270 (Fall 2008): Artificial Intelligence. COMPSCI 196/296.2 (Spring 2008): Linear and Integer Programming. COMPSCI 196.2 (Fall 2007): Introduction to Computational Economics. COMPSCI 296.3 (Spring 2007): Topics in Computational Economics. COMPSCI 296.2 (Fall 2006): Computational Game Theory and Mechanism Design.\""
   ]
  },
  {
   "cell_type": "code",
   "execution_count": 26,
   "metadata": {},
   "outputs": [
    {
     "data": {
      "text/plain": [
       "['290.4',\n",
       " '196.1',\n",
       " '196',\n",
       " '270',\n",
       " '590.2',\n",
       " '223',\n",
       " '570',\n",
       " '590.3',\n",
       " '590.2',\n",
       " '590.4',\n",
       " '570',\n",
       " '590.4',\n",
       " '590.1',\n",
       " '173',\n",
       " '296.1',\n",
       " '296.1',\n",
       " '173',\n",
       " '170',\n",
       " '270',\n",
       " '196.2',\n",
       " '296.3',\n",
       " '296.2',\n",
       " '590.4',\n",
       " '296.1',\n",
       " '296.2']"
      ]
     },
     "execution_count": 26,
     "metadata": {},
     "output_type": "execute_result"
    }
   ],
   "source": [
    "import re\n",
    "y = re.findall(\"[A-Z] ([0-9.]*) \",ob2)\n",
    "x = re.findall(\"([0-9.]+)/\",ob2) \n",
    "z = re.findall(\"/([0-9.]+)\",ob2)\n",
    "final = x + y + z\n",
    "final"
   ]
  },
  {
   "cell_type": "markdown",
   "metadata": {},
   "source": [
    "### 5. [5 puntos]\n",
    "\n",
    "*ob3* es un string que reune una lista de publicaciones. Use expresiones regulares para extraer todos los *Journals* en los cuales el autor ha publicado. Ejemplo: El paper **Bail, CA. \"The configuration of symbolic boundaries against immigrants in Europe.\" American Sociological Review 73.1 (January 1, 2008): 37-59. Full Text** fue publicado en el Journal *American Sociological Review*\n",
    "\n",
    " ob3 = \"Bail, CA, Argyle, LP, Brown, TW, Bumpus, JP, Chen, H, Hunzaker, MBF, Lee, J, Mann, M, Merhout, F, and Volfovsky, A. \\\"Exposure to opposing views on social media can increase political polarization.\\\" Proceedings of the National Academy of Sciences of the United States of America 115.37 (September 2018): 9216-9221. Full Text Open Access Copy.\\n\",\n",
    "    \"Bail, CA, Merhout, F, and Ding, P. \\\"Using Internet search data to examine the relationship between anti-Muslim and pro-ISIS sentiment in U.S. counties.\\\" Science Advances 4.6 (June 6, 2018): eaao5948-null. Full Text Open Access Copy.\\n\",\n",
    "    \"Bail, CA, Brown, TW, and Mann, M. \\\"Channeling Hearts and Minds: Advocacy Organizations, Cognitive-Emotional Currents, and Public Conversation.\\\" American Sociological Review 82.6 (December 1, 2017): 1188-1213. Full Text.\\n\",\n",
    "    \"Bail, CA. \\\"Taming Big Data: Using App Technology to Study Organizational Behavior on Social Media.\\\" Sociological Methods and Research 46.2 (March 1, 2017): 189-217. Full Text.\\n\",\n",
    "    \"McDonnell, TE, Bail, CA, and Tavory, I. \\\"A Theory of Resonance.\\\" Sociological Theory 35.1 (March 1, 2017): 1-14. Full Text.\\n\",\n",
    "    \"Bail, CA. \\\"Combining natural language processing and network analysis to examine how advocacy organizations stimulate conversation on social media.\\\" Proceedings of the National Academy of Sciences of the United States of America 113.42 (October 2016): 11823-11828. Full Text.\\n\",\n",
    "    \"Bail, CA. \\\"Emotional Feedback and the Viral Spread of Social Media Messages About Autism Spectrum Disorders.\\\" American journal of public health 106.7 (July 2016): 1173-1180. Full Text.\\n\",\n",
    "    \"Bail, CA. \\\"The public life of secrets: Deception, disclosure, and discursive framing in the policy process.\\\" Sociological Theory 33.2 (January 1, 2015): 97-124. Full Text.\\n\",\n",
    "    \"Bail, CA. \\\"The cultural environment: Measuring culture with big data.\\\" Theory and Society 43.3 (January 1, 2014): 465-524. Full Text.\\\"\""
   ]
  },
  {
   "cell_type": "code",
   "execution_count": 6,
   "metadata": {},
   "outputs": [],
   "source": [
    "ob3 = '''\"Bail, CA, Argyle, LP, Brown, TW, Bumpus, JP, Chen, H, Hunzaker, MBF, Lee, J, Mann, M, Merhout, F, and Volfovsky, A. \"Exposure to opposing views on social media can increase political polarization.\" Proceedings of the National Academy of Sciences of the United States of America 115.37 (September 2018): 9216-9221. Full Text Open Access Copy.\\n\", \"Bail, CA, Merhout, F, and Ding, P. \"Using Internet search data to examine the relationship between anti-Muslim and pro-ISIS sentiment in U.S. counties.\" Science Advances 4.6 (June 6, 2018): eaao5948-null. Full Text Open Access Copy.\\n\", \"Bail, CA, Brown, TW, and Mann, M. \"Channeling Hearts and Minds: Advocacy Organizations, Cognitive-Emotional Currents, and Public Conversation.\" American Sociological Review 82.6 (December 1, 2017): 1188-1213. Full Text.\\n\", \"Bail, CA. \"Taming Big Data: Using App Technology to Study Organizational Behavior on Social Media.\" Sociological Methods and Research 46.2 (March 1, 2017): 189-217. Full Text.\\n\", \"McDonnell, TE, Bail, CA, and Tavory, I. \"A Theory of Resonance.\" Sociological Theory 35.1 (March 1, 2017): 1-14. Full Text.\\n\", \"Bail, CA. \"Combining natural language processing and network analysis to examine how advocacy organizations stimulate conversation on social media.\" Proceedings of the National Academy of Sciences of the United States of America 113.42 (October 2016): 11823-11828. Full Text.\\n\", \"Bail, CA. \"Emotional Feedback and the Viral Spread of Social Media Messages About Autism Spectrum Disorders.\" American journal of public health 106.7 (July 2016): 1173-1180. Full Text.\\n\", \"Bail, CA. \"The public life of secrets: Deception, disclosure, and discursive framing in the policy process.\" Sociological Theory 33.2 (January 1, 2015): 97-124. Full Text.\\n\", \"Bail, CA. \"The cultural environment: Measuring culture with big data.\" Theory and Society 43.3 (January 1, 2014): 465-524. Full Text.\"\"'''"
   ]
  },
  {
   "cell_type": "code",
   "execution_count": 7,
   "metadata": {},
   "outputs": [
    {
     "data": {
      "text/plain": [
       "['Proceedings of the National Academy of Sciences of the United States of America',\n",
       " 'Science Advances',\n",
       " 'American Sociological Review',\n",
       " 'Sociological Methods and Research',\n",
       " 'Sociological Theory',\n",
       " 'Proceedings of the National Academy of Sciences of the United States of America',\n",
       " 'American journal of public health',\n",
       " 'Sociological Theory',\n",
       " 'Theory and Society']"
      ]
     },
     "execution_count": 7,
     "metadata": {},
     "output_type": "execute_result"
    }
   ],
   "source": [
    "re.findall('''.\" ([A-Z \\s a-z]+) [0-9]*''',ob3)"
   ]
  },
  {
   "cell_type": "markdown",
   "metadata": {},
   "source": [
    "### 6. [10 puntos]\n",
    "\n",
    "\n",
    "Vamos a hacer \"scraping\" a esta página: https://archive.ics.uci.edu/ml/datasets.php, que contiene un listado de 559 bases de datos que hacen parte del repositorio de la Universidad de California, Irvine."
   ]
  },
  {
   "cell_type": "markdown",
   "metadata": {},
   "source": [
    "\n",
    "Su tarea consiste en crear un \"Pandas dataframe\" que contenga 559 filas (una por base de datos) y las siguientes columnas:\n",
    "- Nombre de la base de datos\n",
    "- Link a la base de datos\n",
    "- Tipo de datos\n",
    "- Tipo de tarea a resolver (default task)\n",
    "- Tipo de las variables\n",
    "- Número de observaciones\n",
    "- Número de variables\n",
    "- Año\n",
    "- Descripción de la base (Pista: Utilice la opción list view: https://archive.ics.uci.edu/ml/datasets.php?format=&task=&att=&area=&numAtt=&numIns=&type=&sort=nameUp&view=list)"
   ]
  },
  {
   "cell_type": "code",
   "execution_count": 1,
   "metadata": {},
   "outputs": [],
   "source": [
    "import requests\n",
    "from bs4 import BeautifulSoup\n",
    "html = requests.get('https://archive.ics.uci.edu/ml/datasets.php').text\n",
    "page = BeautifulSoup(html)"
   ]
  },
  {
   "cell_type": "code",
   "execution_count": 2,
   "metadata": {},
   "outputs": [],
   "source": [
    "items = page.find_all('p')\n"
   ]
  },
  {
   "cell_type": "code",
   "execution_count": 3,
   "metadata": {},
   "outputs": [],
   "source": [
    "import re\n",
    "data= re.findall('class=\"normal\".+', str(items))\n",
    "\n"
   ]
  },
  {
   "cell_type": "code",
   "execution_count": 4,
   "metadata": {},
   "outputs": [],
   "source": [
    "nombres = re.findall('''>([\\w'’  \"0-9/?^.�+\\,;*$:!@()_+–&-<>⁄]*)</a></b></p></td></tr></table></td>''', str(page))"
   ]
  },
  {
   "cell_type": "code",
   "execution_count": 5,
   "metadata": {},
   "outputs": [
    {
     "data": {
      "text/plain": [
       "559"
      ]
     },
     "execution_count": 5,
     "metadata": {},
     "output_type": "execute_result"
    }
   ],
   "source": [
    "len(nombres)"
   ]
  },
  {
   "cell_type": "code",
   "execution_count": 11,
   "metadata": {},
   "outputs": [
    {
     "data": {
      "text/plain": [
       "3914"
      ]
     },
     "execution_count": 11,
     "metadata": {},
     "output_type": "execute_result"
    }
   ],
   "source": [
    "other= re.findall('class=\"normal\">([A-Z \\s a-z,-]*)', str(data))\n",
    "other= other[9:]\n",
    "len(other) # de 3 en 3"
   ]
  },
  {
   "cell_type": "code",
   "execution_count": 7,
   "metadata": {},
   "outputs": [],
   "source": [
    "numbers = re.findall('class=\"normal\">([0-9]*)', str(data))\n",
    "numbers = numbers[12:]"
   ]
  },
  {
   "cell_type": "code",
   "execution_count": 8,
   "metadata": {},
   "outputs": [],
   "source": [
    "data_types =[]\n",
    "iterable = []\n",
    "for i in range(3914):\n",
    "    if i % 7 == 0:\n",
    "        iterable.append(i)\n",
    "for i in iterable:\n",
    "    data_types.append(other[i])\n",
    "data_types=data_types[:559] \n"
   ]
  },
  {
   "cell_type": "code",
   "execution_count": 124,
   "metadata": {},
   "outputs": [
    {
     "data": {
      "text/plain": [
       "559"
      ]
     },
     "execution_count": 124,
     "metadata": {},
     "output_type": "execute_result"
    }
   ],
   "source": [
    "len(data_types)"
   ]
  },
  {
   "cell_type": "code",
   "execution_count": 9,
   "metadata": {},
   "outputs": [],
   "source": [
    "default_task=[]\n",
    "iterablee = []\n",
    "for i in range(3914):\n",
    "    if i % 7 == 0:\n",
    "        iterablee.append(i+1)\n",
    "iterablee.remove(3914)\n",
    "for i in iterablee:\n",
    "    default_task.append(other[i])\n"
   ]
  },
  {
   "cell_type": "code",
   "execution_count": 126,
   "metadata": {},
   "outputs": [
    {
     "data": {
      "text/plain": [
       "559"
      ]
     },
     "execution_count": 126,
     "metadata": {},
     "output_type": "execute_result"
    }
   ],
   "source": [
    "len(default_task)"
   ]
  },
  {
   "cell_type": "code",
   "execution_count": 12,
   "metadata": {},
   "outputs": [],
   "source": [
    "attribute_types=[]\n",
    "iterableee = []\n",
    "for i in range(3914):\n",
    "    if i % 7 == 0:\n",
    "        iterableee.append(i+2)\n",
    "iterableee.remove(3915)\n",
    "for i in iterableee:\n",
    "    attribute_types.append(other[i])\n"
   ]
  },
  {
   "cell_type": "code",
   "execution_count": 13,
   "metadata": {},
   "outputs": [
    {
     "data": {
      "text/plain": [
       "559"
      ]
     },
     "execution_count": 13,
     "metadata": {},
     "output_type": "execute_result"
    }
   ],
   "source": [
    "len(attribute_types)"
   ]
  },
  {
   "cell_type": "code",
   "execution_count": 14,
   "metadata": {},
   "outputs": [],
   "source": [
    "num_instances =[]\n",
    "iiterable = []\n",
    "for i in range(3911):\n",
    "    if i % 7 == 0:\n",
    "        iiterable.append(i)\n",
    "for i in iiterable:\n",
    "    num_instances.append(numbers[i])\n"
   ]
  },
  {
   "cell_type": "code",
   "execution_count": 15,
   "metadata": {},
   "outputs": [
    {
     "data": {
      "text/plain": [
       "559"
      ]
     },
     "execution_count": 15,
     "metadata": {},
     "output_type": "execute_result"
    }
   ],
   "source": [
    "len(num_instances)"
   ]
  },
  {
   "cell_type": "code",
   "execution_count": 16,
   "metadata": {},
   "outputs": [],
   "source": [
    "num_attributes=[]\n",
    "iiterablee = []\n",
    "for i in range(3911):\n",
    "    if i % 7 == 0:\n",
    "        iiterablee.append(i+1)\n",
    "\n",
    "for i in iiterablee:\n",
    "    num_attributes.append(numbers[i])\n"
   ]
  },
  {
   "cell_type": "code",
   "execution_count": 17,
   "metadata": {},
   "outputs": [
    {
     "data": {
      "text/plain": [
       "559"
      ]
     },
     "execution_count": 17,
     "metadata": {},
     "output_type": "execute_result"
    }
   ],
   "source": [
    "len(num_attributes)"
   ]
  },
  {
   "cell_type": "code",
   "execution_count": 18,
   "metadata": {},
   "outputs": [],
   "source": [
    "year=[]\n",
    "iiterableee = []\n",
    "for i in range(3911):\n",
    "    if i % 7 == 0:\n",
    "        iiterableee.append(i+2)\n",
    "for i in iiterableee:\n",
    "    year.append(numbers[i])\n"
   ]
  },
  {
   "cell_type": "code",
   "execution_count": 19,
   "metadata": {},
   "outputs": [
    {
     "data": {
      "text/plain": [
       "559"
      ]
     },
     "execution_count": 19,
     "metadata": {},
     "output_type": "execute_result"
    }
   ],
   "source": [
    "len(year)"
   ]
  },
  {
   "cell_type": "code",
   "execution_count": 20,
   "metadata": {},
   "outputs": [],
   "source": [
    "links = re.findall(\"<td><p class=\\\"normal\\\"><b><a href=\\\"([/\\%=\\w'+():. ,-]*)\\\"\", str(page))\n",
    "link=[]\n",
    "for i in links:\n",
    "    link.append(\"https://archive.ics.uci.edu/ml/\"+i)\n"
   ]
  },
  {
   "cell_type": "code",
   "execution_count": 21,
   "metadata": {},
   "outputs": [
    {
     "data": {
      "text/plain": [
       "559"
      ]
     },
     "execution_count": 21,
     "metadata": {},
     "output_type": "execute_result"
    }
   ],
   "source": [
    "len(link)"
   ]
  },
  {
   "cell_type": "code",
   "execution_count": 138,
   "metadata": {},
   "outputs": [
    {
     "data": {
      "text/html": [
       "<div>\n",
       "<style scoped>\n",
       "    .dataframe tbody tr th:only-of-type {\n",
       "        vertical-align: middle;\n",
       "    }\n",
       "\n",
       "    .dataframe tbody tr th {\n",
       "        vertical-align: top;\n",
       "    }\n",
       "\n",
       "    .dataframe thead th {\n",
       "        text-align: right;\n",
       "    }\n",
       "</style>\n",
       "<table border=\"1\" class=\"dataframe\">\n",
       "  <thead>\n",
       "    <tr style=\"text-align: right;\">\n",
       "      <th></th>\n",
       "      <th>Data Types</th>\n",
       "      <th>Default Task</th>\n",
       "      <th>Attribute Types</th>\n",
       "      <th>Num Instances</th>\n",
       "      <th>Num Attributes</th>\n",
       "      <th>Year</th>\n",
       "      <th>Link</th>\n",
       "    </tr>\n",
       "  </thead>\n",
       "  <tbody>\n",
       "    <tr>\n",
       "      <th>Abalone</th>\n",
       "      <td>Multivariate</td>\n",
       "      <td>Classification</td>\n",
       "      <td>Categorical, Integer, Real</td>\n",
       "      <td>4177</td>\n",
       "      <td>8</td>\n",
       "      <td>1995</td>\n",
       "      <td>https://archive.ics.uci.edu/ml/datasets/Abalone</td>\n",
       "    </tr>\n",
       "    <tr>\n",
       "      <th>Adult</th>\n",
       "      <td>Multivariate</td>\n",
       "      <td>Classification</td>\n",
       "      <td>Categorical, Integer</td>\n",
       "      <td>48842</td>\n",
       "      <td>14</td>\n",
       "      <td>1996</td>\n",
       "      <td>https://archive.ics.uci.edu/ml/datasets/Adult</td>\n",
       "    </tr>\n",
       "    <tr>\n",
       "      <th>Annealing</th>\n",
       "      <td>Multivariate</td>\n",
       "      <td>Classification</td>\n",
       "      <td>Categorical, Integer, Real</td>\n",
       "      <td>798</td>\n",
       "      <td>38</td>\n",
       "      <td></td>\n",
       "      <td>https://archive.ics.uci.edu/ml/datasets/Annealing</td>\n",
       "    </tr>\n",
       "    <tr>\n",
       "      <th>Anonymous Microsoft Web Data</th>\n",
       "      <td></td>\n",
       "      <td>Recommender-Systems</td>\n",
       "      <td>Categorical</td>\n",
       "      <td>37711</td>\n",
       "      <td>294</td>\n",
       "      <td>1998</td>\n",
       "      <td>https://archive.ics.uci.edu/ml/datasets/Anonym...</td>\n",
       "    </tr>\n",
       "    <tr>\n",
       "      <th>Arrhythmia</th>\n",
       "      <td>Multivariate</td>\n",
       "      <td>Classification</td>\n",
       "      <td>Categorical, Integer, Real</td>\n",
       "      <td>452</td>\n",
       "      <td>279</td>\n",
       "      <td>1998</td>\n",
       "      <td>https://archive.ics.uci.edu/ml/datasets/Arrhyt...</td>\n",
       "    </tr>\n",
       "    <tr>\n",
       "      <th>...</th>\n",
       "      <td>...</td>\n",
       "      <td>...</td>\n",
       "      <td>...</td>\n",
       "      <td>...</td>\n",
       "      <td>...</td>\n",
       "      <td>...</td>\n",
       "      <td>...</td>\n",
       "    </tr>\n",
       "    <tr>\n",
       "      <th>IIWA14-R820-Gazebo-Dataset-10Trajectories</th>\n",
       "      <td></td>\n",
       "      <td>Regression</td>\n",
       "      <td>Integer</td>\n",
       "      <td></td>\n",
       "      <td></td>\n",
       "      <td>2020</td>\n",
       "      <td>https://archive.ics.uci.edu/ml/datasets/IIWA14...</td>\n",
       "    </tr>\n",
       "    <tr>\n",
       "      <th>Guitar Chords finger positions</th>\n",
       "      <td>Text</td>\n",
       "      <td>Classification</td>\n",
       "      <td></td>\n",
       "      <td>2633</td>\n",
       "      <td>5</td>\n",
       "      <td>2020</td>\n",
       "      <td>https://archive.ics.uci.edu/ml/datasets/Guitar...</td>\n",
       "    </tr>\n",
       "    <tr>\n",
       "      <th>Russian Corpus of Biographical Texts</th>\n",
       "      <td>Text</td>\n",
       "      <td>Classification</td>\n",
       "      <td></td>\n",
       "      <td>200</td>\n",
       "      <td>2</td>\n",
       "      <td>2020</td>\n",
       "      <td>https://archive.ics.uci.edu/ml/datasets/Russia...</td>\n",
       "    </tr>\n",
       "    <tr>\n",
       "      <th>Codon usage</th>\n",
       "      <td>Multivariate</td>\n",
       "      <td>Classification, Clustering</td>\n",
       "      <td></td>\n",
       "      <td>13028</td>\n",
       "      <td>69</td>\n",
       "      <td>2020</td>\n",
       "      <td>https://archive.ics.uci.edu/ml/datasets/Codon+...</td>\n",
       "    </tr>\n",
       "    <tr>\n",
       "      <th>Intelligent Media Accelerometer and Gyroscope (IM-AccGyro) Dataset</th>\n",
       "      <td>Time-Series</td>\n",
       "      <td>Classification</td>\n",
       "      <td>Real</td>\n",
       "      <td>800</td>\n",
       "      <td>9</td>\n",
       "      <td>2020</td>\n",
       "      <td>https://archive.ics.uci.edu/ml/datasets/Intell...</td>\n",
       "    </tr>\n",
       "  </tbody>\n",
       "</table>\n",
       "<p>559 rows × 7 columns</p>\n",
       "</div>"
      ],
      "text/plain": [
       "                                                      Data Types  \\\n",
       "Abalone                                             Multivariate   \n",
       "Adult                                               Multivariate   \n",
       "Annealing                                           Multivariate   \n",
       "Anonymous Microsoft Web Data                                       \n",
       "Arrhythmia                                          Multivariate   \n",
       "...                                                          ...   \n",
       "IIWA14-R820-Gazebo-Dataset-10Trajectories                          \n",
       "Guitar Chords finger positions                              Text   \n",
       "Russian Corpus of Biographical Texts                        Text   \n",
       "Codon usage                                         Multivariate   \n",
       "Intelligent Media Accelerometer and Gyroscope (...   Time-Series   \n",
       "\n",
       "                                                                  Default Task  \\\n",
       "Abalone                                                         Classification   \n",
       "Adult                                                           Classification   \n",
       "Annealing                                                       Classification   \n",
       "Anonymous Microsoft Web Data                               Recommender-Systems   \n",
       "Arrhythmia                                                      Classification   \n",
       "...                                                                        ...   \n",
       "IIWA14-R820-Gazebo-Dataset-10Trajectories                           Regression   \n",
       "Guitar Chords finger positions                                  Classification   \n",
       "Russian Corpus of Biographical Texts                            Classification   \n",
       "Codon usage                                         Classification, Clustering   \n",
       "Intelligent Media Accelerometer and Gyroscope (...              Classification   \n",
       "\n",
       "                                                               Attribute Types  \\\n",
       "Abalone                                             Categorical, Integer, Real   \n",
       "Adult                                                     Categorical, Integer   \n",
       "Annealing                                           Categorical, Integer, Real   \n",
       "Anonymous Microsoft Web Data                                       Categorical   \n",
       "Arrhythmia                                          Categorical, Integer, Real   \n",
       "...                                                                        ...   \n",
       "IIWA14-R820-Gazebo-Dataset-10Trajectories                              Integer   \n",
       "Guitar Chords finger positions                                                   \n",
       "Russian Corpus of Biographical Texts                                             \n",
       "Codon usage                                                                      \n",
       "Intelligent Media Accelerometer and Gyroscope (...                        Real   \n",
       "\n",
       "                                                   Num Instances  \\\n",
       "Abalone                                                     4177   \n",
       "Adult                                                      48842   \n",
       "Annealing                                                    798   \n",
       "Anonymous Microsoft Web Data                               37711   \n",
       "Arrhythmia                                                   452   \n",
       "...                                                          ...   \n",
       "IIWA14-R820-Gazebo-Dataset-10Trajectories                          \n",
       "Guitar Chords finger positions                              2633   \n",
       "Russian Corpus of Biographical Texts                         200   \n",
       "Codon usage                                                13028   \n",
       "Intelligent Media Accelerometer and Gyroscope (...           800   \n",
       "\n",
       "                                                   Num Attributes  Year  \\\n",
       "Abalone                                                         8  1995   \n",
       "Adult                                                          14  1996   \n",
       "Annealing                                                      38         \n",
       "Anonymous Microsoft Web Data                                  294  1998   \n",
       "Arrhythmia                                                    279  1998   \n",
       "...                                                           ...   ...   \n",
       "IIWA14-R820-Gazebo-Dataset-10Trajectories                          2020   \n",
       "Guitar Chords finger positions                                  5  2020   \n",
       "Russian Corpus of Biographical Texts                            2  2020   \n",
       "Codon usage                                                    69  2020   \n",
       "Intelligent Media Accelerometer and Gyroscope (...              9  2020   \n",
       "\n",
       "                                                                                                 Link  \n",
       "Abalone                                               https://archive.ics.uci.edu/ml/datasets/Abalone  \n",
       "Adult                                                   https://archive.ics.uci.edu/ml/datasets/Adult  \n",
       "Annealing                                           https://archive.ics.uci.edu/ml/datasets/Annealing  \n",
       "Anonymous Microsoft Web Data                        https://archive.ics.uci.edu/ml/datasets/Anonym...  \n",
       "Arrhythmia                                          https://archive.ics.uci.edu/ml/datasets/Arrhyt...  \n",
       "...                                                                                               ...  \n",
       "IIWA14-R820-Gazebo-Dataset-10Trajectories           https://archive.ics.uci.edu/ml/datasets/IIWA14...  \n",
       "Guitar Chords finger positions                      https://archive.ics.uci.edu/ml/datasets/Guitar...  \n",
       "Russian Corpus of Biographical Texts                https://archive.ics.uci.edu/ml/datasets/Russia...  \n",
       "Codon usage                                         https://archive.ics.uci.edu/ml/datasets/Codon+...  \n",
       "Intelligent Media Accelerometer and Gyroscope (...  https://archive.ics.uci.edu/ml/datasets/Intell...  \n",
       "\n",
       "[559 rows x 7 columns]"
      ]
     },
     "execution_count": 138,
     "metadata": {},
     "output_type": "execute_result"
    }
   ],
   "source": [
    "import pandas as pd\n",
    "dtafrm = {'Data Types':data_types,'Default Task':default_task,'Attribute Types':attribute_types,\n",
    "          'Num Instances':num_instances,'Num Attributes':num_attributes, 'Year':year,'Link':link}\n",
    "halfdf = pd.DataFrame(dtafrm,index =nombres)\n",
    "halfdf"
   ]
  },
  {
   "cell_type": "code",
   "execution_count": 23,
   "metadata": {},
   "outputs": [],
   "source": [
    "#description\n",
    "import requests\n",
    "from bs4 import BeautifulSoup\n",
    "des= requests.get('https://archive.ics.uci.edu/ml/datasets.php?format=&task=&att=&area=&numAtt=&numIns=&type=&sort=nameUp&view=list').text\n",
    "description= BeautifulSoup(des)"
   ]
  },
  {
   "cell_type": "code",
   "execution_count": 24,
   "metadata": {
    "scrolled": false
   },
   "outputs": [],
   "source": [
    "import requests\n",
    "descrip = re.findall('''</a></b>: ([\\w'’  \"0-9/?’^.�%+®\\,;*$:!@#(){}_+–&-<>⁄~`±]*)</p>''', str(description))\n",
    "descrip.insert(10,'This dataset comprises information regarding the ADLs performed by two users on a daily basis in their own homes.')\n",
    "descrip.insert(15,'The data was created by a medical expert as a data set to test the expert system, which will perform the presumptive diagnosis of two diseases of the urinary system.')\n",
    "descrip.insert(28,'This is a dataset of classified for apartments for rent in USA.')\n",
    "descrip.insert(46,'The data set is composed of 60 chorales (5665 events) by J.S. Bach (1675-1750). Each event of each chorale is labelled using 1 among 101 chord labels and described through 14 features.')\n",
    "descrip.insert(61,\"It contains fourteen numerical weather prediction (NWP)'s meteorological forecast data, two in-situ observations, and five geographical auxiliary variables over Seoul, South Korea in the summer.\")\n",
    "descrip.insert(66,'In this paper, we look for to recognize the causes of users tend to cyber space in Kohkiloye and Boyer Ahmad Province in Iran')\n",
    "descrip.insert(97,'ChIP-seq experiments characterize protein modifications or binding at specific genomic locations in specific samples. The machine learning problem in these data is structured binary classification.')\n",
    "descrip.insert(104,'This is a data set containing 1080 documents of free text business descriptions of Brazilian companies categorized into a subset of 9 categories')\n",
    "descrip.insert(133,'The dataset comprises motion sensor data of 19 daily and sports activities each performed by 8 subjects in their own style for 5 minutes. Five Xsens MTx units are used on the torso, arms, and legs.')\n",
    "descrip.insert(135,\"This dataset contains the annotated readings of 3 acceleration sensors at the hip and leg of Parkinson's disease patients that experience freezing of gait (FoG) during walking tasks.\")\n",
    "descrip.insert(150,'DEXTER is a text classification problem in a bag-of-word representation. This is a two-class classification problem with sparse continuous input variables. This dataset is one of five datasets of the NIPS 2003 feature selection challenge.')\n",
    "descrip.insert(153,'This data has been prepared to analyze factors related to readmission as well as other outcomes pertaining to patients with diabetes.')\n",
    "descrip.insert(155,'Discrete Tone Images(DTI)are available which needs to be analyzed in detail. Here, we created this dataset for those who do research in DTI. ')\n",
    "descrip.insert(157,'Participants completed the “Personal Information Form” and “Divorce Predictors Scale”')\n",
    "descrip.insert(165,'The DrivFace contains images sequences of subjects while driving in real scenarios. It is composed of 606 samples of 640×480, acquired over different days from 4 drivers with several facial features.')\n",
    "descrip.insert(174,'This dataset contains the sign and symptpom data of newly diabetic or would be diabetic patient.')\n",
    "descrip.insert(186,'This data set contains electricity consumption of 370 points/clients.')\n",
    "descrip.insert(214,'A chemical detection platform composed of 14 temperature-modulated metal oxide (MOX) gas sensors was exposed during 3 weeks to mixtures of carbon monoxide and humid synthetic air in a gas chamber.')\n",
    "descrip.insert(218,'100 recordings of a sensor array under different conditions in a home setting: background, wine and banana presentations. The array includes 8 MOX gas sensors, and humidity and temperature sensors.')\n",
    "descrip.insert(223,'Instances in this dataset contain audio features extracted from 1059 wave files. The task associated with the data is to predict the geographical origin of music. ')\n",
    "descrip.insert(225,'GISETTE is a handwritten digit recognition problem. The problem is to separate the highly confusible digits 4 and 9. This dataset is one of five datasets of the NIPS 2003 feature selection challenge.')\n",
    "descrip.insert(229,'The dataset has been feed by Android app called Go!Track. It is available at Goolge Play Store(https://play.google.com/store/apps/details?id=com.go.router).')\n",
    "descrip.insert(231,'Design an observing network to monitor emissions of a greenhouse gas (GHG) in California given time series of synthetic observations and tracers from weather model simulations.')\n",
    "descrip.insert(265,'The IM-AccGyro dataset is devised to benchmark techniques dealing with human activity recognition based on inertial sensors')\n",
    "descrip.insert(292,'The data set contains 15 classes of 24 instances each. Each class references to a hand movement type in LIBRAS (Portuguese name L�ngua BRAsileira de Sinais, oficial brazilian signal language).')\n",
    "descrip.insert(307,'Mesothelioma’s disease data set were prepared at Dicle University Faculty of Medicine in Turkey. Three hundred and twenty-four Mesothelioma patient data. In the dataset, all samples have 34 features.')\n",
    "descrip.insert(311,'The MEx Multi-modal Exercise dataset contains data of 7 different physiotherapy exercises, performed by 30 subjects recorded with 2 accelerometers, a pressure mat and a depth camera.')\n",
    "descrip.insert(314,'MicroblogPCU data is crawled from sina weibo microblog[http://weibo.com/]. This data can be used to study machine learning methods as well as do some social network research.')\n",
    "descrip.insert(341,'Nomao collects data about places (name, phone, localization...) from many sources. Deduplication consists in detecting what data refer to the same place. Instances in the dataset compare 2 spots.')\n",
    "descrip.insert(349,'This is a dataset of 8235 online handwritten assamese characters. The “online” process involves capturing of data as text is written on a digitizing tablet with an electronic pen.')\n",
    "descrip.insert(353,'Of the 12,330 sessions in the dataset, 84.5% (10,422) were negative class samples that did not end with shopping, and the rest (1908) were positive class samples ending with shopping.')\n",
    "descrip.insert(357,'This dataset contains sentences extracted from user reviews on a given topic. Example topics are “performance of Toyota Camry” and “sound quality of ipod nano”.')\n",
    "descrip.insert(358,'This data set contains user reviews of cars and and hotels collected from Tripadvisor (~259,000 reviews) and Edmunds (~42,230 reviews).')\n",
    "descrip.insert(364,'The goal is to model mutant p53 transcriptional activity (active vs inactive) based on data extracted from biophysical simulations.')\n",
    "descrip.insert(369,'Data collected from car parks in Birmingham that are operated by NCP from Birmingham City Council. UK Open Government Licence (OGL). https://data.birmingham.gov.uk/dataset/birmingham-parking')\n",
    "descrip.insert(393,'PPG-DaLiA contains data from 15 subjects wearing physiological and motion sensors, providing a PPG dataset for motion compensation and heart rate estimation in Daily Life Activities.')\n",
    "descrip.insert(413,'The “real estate valuation” is a regression problem. The market historical data set of real estate valuation are collected from Sindian Dist., New Taipei City, Taiwan.')\n",
    "descrip.insert(423,'This dataset is created by reading out 200 files from the 10 largest Reuters classes and using an Automatic Speech Recognition system to create corresponding transcriptions.')\n",
    "descrip.insert(436,'The data describe the problem of high energy (higher than 10^4 J) seismic bumps forecasting in a coal mine. Data come from two of longwalls located in a Polish coal mine.')\n",
    "descrip.insert(437,'The SELFBACK dataset is a Human Activity Recognition Dataset of 9 activity classes recorded with two tri-axial accelerometers.')\n",
    "descrip.insert(455,'Activity recognition data set built from the recordings of 30 subjects performing basic activities and postural transitions while carrying a waist-mounted smartphone with embedded inertial sensors. ')\n",
    "descrip.insert(479,'A dataset of steel plates’ faults, classified into 7 different types. The goal was to train machine learning for automatic pattern recognition.')\n",
    "descrip.insert(480,'The dataset is provided by the “Trialto Latvia LTD”, the third-party logistics operator. Each observation stands for a distinct type of item for sale.')\n",
    "descrip.insert(482,'Stone flakes are waste products of the stone tool production in the prehistoric era. The variables are means of geometric and stylistic features of the flakes contained in different inventories.')\n",
    "descrip.insert(494,'An accurate dataset describing trajectories performed by all the 442 taxis running in the city of Porto, in Portugal.')\n",
    "descrip.insert(509,'UbiqLog is the smartphone lifelogging tool that runs on the smartphone of 35 users for about 2 months.')\n",
    "descrip.insert(524,' The dataset collects data from an Android smartphone positioned in the chest pocket from 22 participants walking in the wild over a predefined path.')\n",
    "descrip.insert(540,'')\n",
    "descrip.insert(547,'Two datasets are included, related to red and white vinho verde wine samples, from the north of Portugal. The goal is to model wine quality based on physicochemical tests (see [Cortez et al., 2009], http://www3.dsi.uminho.pt/pcortez/wine/).')\n",
    "descrip.insert(554,' The datasets are taken from top 2 Indian cooking channel named Nisha Madhulika channel and Kabita’s Kitchen channel. The data set is in Hinglish Language.')\n",
    "# no supe como mas hacerlo :<"
   ]
  },
  {
   "cell_type": "code",
   "execution_count": 141,
   "metadata": {},
   "outputs": [
    {
     "data": {
      "text/plain": [
       "559"
      ]
     },
     "execution_count": 141,
     "metadata": {},
     "output_type": "execute_result"
    }
   ],
   "source": [
    "len(descrip)"
   ]
  },
  {
   "cell_type": "code",
   "execution_count": 25,
   "metadata": {},
   "outputs": [],
   "source": [
    "bb= re.findall('''\">([\\w'’  \"0-9/?^.�+\\,;*$:!@()_+–&-<>⁄]*)</a></b>''', str(description))\n",
    "# names en orden "
   ]
  },
  {
   "cell_type": "code",
   "execution_count": 26,
   "metadata": {},
   "outputs": [
    {
     "data": {
      "text/plain": [
       "559"
      ]
     },
     "execution_count": 26,
     "metadata": {},
     "output_type": "execute_result"
    }
   ],
   "source": [
    "len(bb)"
   ]
  },
  {
   "cell_type": "code",
   "execution_count": 144,
   "metadata": {},
   "outputs": [
    {
     "data": {
      "text/html": [
       "<div>\n",
       "<style scoped>\n",
       "    .dataframe tbody tr th:only-of-type {\n",
       "        vertical-align: middle;\n",
       "    }\n",
       "\n",
       "    .dataframe tbody tr th {\n",
       "        vertical-align: top;\n",
       "    }\n",
       "\n",
       "    .dataframe thead th {\n",
       "        text-align: right;\n",
       "    }\n",
       "</style>\n",
       "<table border=\"1\" class=\"dataframe\">\n",
       "  <thead>\n",
       "    <tr style=\"text-align: right;\">\n",
       "      <th></th>\n",
       "      <th>Description</th>\n",
       "    </tr>\n",
       "  </thead>\n",
       "  <tbody>\n",
       "    <tr>\n",
       "      <th>2.4 GHZ Indoor Channel Measurements</th>\n",
       "      <td>Measurement of the S21,consists of 10 sweeps, ...</td>\n",
       "    </tr>\n",
       "    <tr>\n",
       "      <th>3D Road Network (North Jutland, Denmark)</th>\n",
       "      <td>3D road network with highly accurate elevation...</td>\n",
       "    </tr>\n",
       "    <tr>\n",
       "      <th>3W dataset</th>\n",
       "      <td>The first realistic and public dataset with ra...</td>\n",
       "    </tr>\n",
       "    <tr>\n",
       "      <th>: Simulated Data set of Iraqi tourism places</th>\n",
       "      <td>Simulated Data set of Iraqi tourism places wit...</td>\n",
       "    </tr>\n",
       "    <tr>\n",
       "      <th>A study of  Asian Religious and Biblical Texts</th>\n",
       "      <td>Mainly from Project Gutenberg, we combine Upan...</td>\n",
       "    </tr>\n",
       "    <tr>\n",
       "      <th>...</th>\n",
       "      <td>...</td>\n",
       "    </tr>\n",
       "    <tr>\n",
       "      <th>Youtube cookery channels viewers comments in Hinglish</th>\n",
       "      <td>The datasets are taken from top 2 Indian cook...</td>\n",
       "    </tr>\n",
       "    <tr>\n",
       "      <th>YouTube Multiview Video Games Dataset</th>\n",
       "      <td>This dataset contains about 120k instances, ea...</td>\n",
       "    </tr>\n",
       "    <tr>\n",
       "      <th>YouTube Spam Collection</th>\n",
       "      <td>It is a public set of comments collected for s...</td>\n",
       "    </tr>\n",
       "    <tr>\n",
       "      <th>Z-Alizadeh Sani</th>\n",
       "      <td>It was collected for CAD diagnosis.</td>\n",
       "    </tr>\n",
       "    <tr>\n",
       "      <th>Zoo</th>\n",
       "      <td>Artificial, 7 classes of animals</td>\n",
       "    </tr>\n",
       "  </tbody>\n",
       "</table>\n",
       "<p>559 rows × 1 columns</p>\n",
       "</div>"
      ],
      "text/plain": [
       "                                                                                          Description\n",
       "2.4 GHZ Indoor Channel Measurements                 Measurement of the S21,consists of 10 sweeps, ...\n",
       "3D Road Network (North Jutland, Denmark)            3D road network with highly accurate elevation...\n",
       "3W dataset                                          The first realistic and public dataset with ra...\n",
       ": Simulated Data set of Iraqi tourism places        Simulated Data set of Iraqi tourism places wit...\n",
       "A study of  Asian Religious and Biblical Texts      Mainly from Project Gutenberg, we combine Upan...\n",
       "...                                                                                               ...\n",
       "Youtube cookery channels viewers comments in Hi...   The datasets are taken from top 2 Indian cook...\n",
       "YouTube Multiview Video Games Dataset               This dataset contains about 120k instances, ea...\n",
       "YouTube Spam Collection                             It is a public set of comments collected for s...\n",
       "Z-Alizadeh Sani                                                   It was collected for CAD diagnosis.\n",
       "Zoo                                                                  Artificial, 7 classes of animals\n",
       "\n",
       "[559 rows x 1 columns]"
      ]
     },
     "execution_count": 144,
     "metadata": {},
     "output_type": "execute_result"
    }
   ],
   "source": [
    "import pandas as pd\n",
    "dframe = {'Description':descrip}\n",
    "ohalfdf = pd.DataFrame(dframe,index =bb)\n",
    "ohalfdf"
   ]
  },
  {
   "cell_type": "code",
   "execution_count": 152,
   "metadata": {},
   "outputs": [
    {
     "data": {
      "text/html": [
       "<div>\n",
       "<style scoped>\n",
       "    .dataframe tbody tr th:only-of-type {\n",
       "        vertical-align: middle;\n",
       "    }\n",
       "\n",
       "    .dataframe tbody tr th {\n",
       "        vertical-align: top;\n",
       "    }\n",
       "\n",
       "    .dataframe thead th {\n",
       "        text-align: right;\n",
       "    }\n",
       "</style>\n",
       "<table border=\"1\" class=\"dataframe\">\n",
       "  <thead>\n",
       "    <tr style=\"text-align: right;\">\n",
       "      <th></th>\n",
       "      <th>Data Types</th>\n",
       "      <th>Default Task</th>\n",
       "      <th>Attribute Types</th>\n",
       "      <th>Num Instances</th>\n",
       "      <th>Num Attributes</th>\n",
       "      <th>Year</th>\n",
       "      <th>Link</th>\n",
       "      <th>Description</th>\n",
       "    </tr>\n",
       "  </thead>\n",
       "  <tbody>\n",
       "    <tr>\n",
       "      <th>2.4 GHZ Indoor Channel Measurements</th>\n",
       "      <td>Multivariate</td>\n",
       "      <td>Classification</td>\n",
       "      <td>Real</td>\n",
       "      <td>7840</td>\n",
       "      <td>5</td>\n",
       "      <td>2018</td>\n",
       "      <td>https://archive.ics.uci.edu/ml/datasets/2.4+GH...</td>\n",
       "      <td>Measurement of the S21,consists of 10 sweeps, ...</td>\n",
       "    </tr>\n",
       "    <tr>\n",
       "      <th>3D Road Network (North Jutland, Denmark)</th>\n",
       "      <td>Sequential, Text</td>\n",
       "      <td>Regression, Clustering</td>\n",
       "      <td>Real</td>\n",
       "      <td>434874</td>\n",
       "      <td>4</td>\n",
       "      <td>2013</td>\n",
       "      <td>https://archive.ics.uci.edu/ml/datasets/3D+Roa...</td>\n",
       "      <td>3D road network with highly accurate elevation...</td>\n",
       "    </tr>\n",
       "    <tr>\n",
       "      <th>3W dataset</th>\n",
       "      <td>Multivariate, Time-Series</td>\n",
       "      <td>Classification, Clustering</td>\n",
       "      <td>Integer, Real</td>\n",
       "      <td>1984</td>\n",
       "      <td>8</td>\n",
       "      <td>2019</td>\n",
       "      <td>https://archive.ics.uci.edu/ml/datasets/3W+dat...</td>\n",
       "      <td>The first realistic and public dataset with ra...</td>\n",
       "    </tr>\n",
       "    <tr>\n",
       "      <th>: Simulated Data set of Iraqi tourism places</th>\n",
       "      <td>Multivariate</td>\n",
       "      <td>Classification, Clustering</td>\n",
       "      <td></td>\n",
       "      <td>232</td>\n",
       "      <td>16</td>\n",
       "      <td>2020</td>\n",
       "      <td>https://archive.ics.uci.edu/ml/datasets/%3A+Si...</td>\n",
       "      <td>Simulated Data set of Iraqi tourism places wit...</td>\n",
       "    </tr>\n",
       "    <tr>\n",
       "      <th>A study of  Asian Religious and Biblical Texts</th>\n",
       "      <td>Multivariate, Text</td>\n",
       "      <td>Classification, Clustering</td>\n",
       "      <td>Integer</td>\n",
       "      <td>590</td>\n",
       "      <td>8265</td>\n",
       "      <td>2019</td>\n",
       "      <td>https://archive.ics.uci.edu/ml/datasets/A+stud...</td>\n",
       "      <td>Mainly from Project Gutenberg, we combine Upan...</td>\n",
       "    </tr>\n",
       "    <tr>\n",
       "      <th>...</th>\n",
       "      <td>...</td>\n",
       "      <td>...</td>\n",
       "      <td>...</td>\n",
       "      <td>...</td>\n",
       "      <td>...</td>\n",
       "      <td>...</td>\n",
       "      <td>...</td>\n",
       "      <td>...</td>\n",
       "    </tr>\n",
       "    <tr>\n",
       "      <th>seeds</th>\n",
       "      <td>Multivariate</td>\n",
       "      <td>Classification, Clustering</td>\n",
       "      <td>Real</td>\n",
       "      <td>210</td>\n",
       "      <td>7</td>\n",
       "      <td>2012</td>\n",
       "      <td>https://archive.ics.uci.edu/ml/datasets/seeds</td>\n",
       "      <td>Measurements of geometrical properties of kern...</td>\n",
       "    </tr>\n",
       "    <tr>\n",
       "      <th>seismic-bumps</th>\n",
       "      <td>Multivariate</td>\n",
       "      <td>Classification</td>\n",
       "      <td>Real</td>\n",
       "      <td>2584</td>\n",
       "      <td>19</td>\n",
       "      <td>2013</td>\n",
       "      <td>https://archive.ics.uci.edu/ml/datasets/seismi...</td>\n",
       "      <td>The data describe the problem of high energy (...</td>\n",
       "    </tr>\n",
       "    <tr>\n",
       "      <th>selfBACK</th>\n",
       "      <td>Time-Series</td>\n",
       "      <td>Classification, Clustering</td>\n",
       "      <td>Real</td>\n",
       "      <td>26136</td>\n",
       "      <td>6</td>\n",
       "      <td>2020</td>\n",
       "      <td>https://archive.ics.uci.edu/ml/datasets/selfBACK</td>\n",
       "      <td>The SELFBACK dataset is a Human Activity Recog...</td>\n",
       "    </tr>\n",
       "    <tr>\n",
       "      <th>ser Knowledge Modeling Data (Students' Knowledge Levels on DC Electrical Machines)</th>\n",
       "      <td>Multivariate</td>\n",
       "      <td>Classification</td>\n",
       "      <td>Real</td>\n",
       "      <td>403</td>\n",
       "      <td>5</td>\n",
       "      <td>2013</td>\n",
       "      <td>https://archive.ics.uci.edu/ml/datasets/ser+Kn...</td>\n",
       "      <td>The dataset is about the users' learning activ...</td>\n",
       "    </tr>\n",
       "    <tr>\n",
       "      <th>wiki4HE</th>\n",
       "      <td>Multivariate</td>\n",
       "      <td>Regression, Clustering, Causal-Discovery</td>\n",
       "      <td></td>\n",
       "      <td>913</td>\n",
       "      <td>53</td>\n",
       "      <td>2015</td>\n",
       "      <td>https://archive.ics.uci.edu/ml/datasets/wiki4HE</td>\n",
       "      <td>Survey of faculty members from two Spanish uni...</td>\n",
       "    </tr>\n",
       "  </tbody>\n",
       "</table>\n",
       "<p>569 rows × 8 columns</p>\n",
       "</div>"
      ],
      "text/plain": [
       "                                                                   Data Types  \\\n",
       "2.4 GHZ Indoor Channel Measurements                              Multivariate   \n",
       "3D Road Network (North Jutland, Denmark)                     Sequential, Text   \n",
       "3W dataset                                          Multivariate, Time-Series   \n",
       ": Simulated Data set of Iraqi tourism places                     Multivariate   \n",
       "A study of  Asian Religious and Biblical Texts             Multivariate, Text   \n",
       "...                                                                       ...   \n",
       "seeds                                                            Multivariate   \n",
       "seismic-bumps                                                    Multivariate   \n",
       "selfBACK                                                          Time-Series   \n",
       "ser Knowledge Modeling Data (Students' Knowledg...               Multivariate   \n",
       "wiki4HE                                                          Multivariate   \n",
       "\n",
       "                                                                                Default Task  \\\n",
       "2.4 GHZ Indoor Channel Measurements                                           Classification   \n",
       "3D Road Network (North Jutland, Denmark)                              Regression, Clustering   \n",
       "3W dataset                                                        Classification, Clustering   \n",
       ": Simulated Data set of Iraqi tourism places                      Classification, Clustering   \n",
       "A study of  Asian Religious and Biblical Texts                    Classification, Clustering   \n",
       "...                                                                                      ...   \n",
       "seeds                                                             Classification, Clustering   \n",
       "seismic-bumps                                                                 Classification   \n",
       "selfBACK                                                          Classification, Clustering   \n",
       "ser Knowledge Modeling Data (Students' Knowledg...                            Classification   \n",
       "wiki4HE                                             Regression, Clustering, Causal-Discovery   \n",
       "\n",
       "                                                   Attribute Types  \\\n",
       "2.4 GHZ Indoor Channel Measurements                           Real   \n",
       "3D Road Network (North Jutland, Denmark)                      Real   \n",
       "3W dataset                                           Integer, Real   \n",
       ": Simulated Data set of Iraqi tourism places                         \n",
       "A study of  Asian Religious and Biblical Texts             Integer   \n",
       "...                                                            ...   \n",
       "seeds                                                         Real   \n",
       "seismic-bumps                                                 Real   \n",
       "selfBACK                                                      Real   \n",
       "ser Knowledge Modeling Data (Students' Knowledg...            Real   \n",
       "wiki4HE                                                              \n",
       "\n",
       "                                                   Num Instances  \\\n",
       "2.4 GHZ Indoor Channel Measurements                         7840   \n",
       "3D Road Network (North Jutland, Denmark)                  434874   \n",
       "3W dataset                                                  1984   \n",
       ": Simulated Data set of Iraqi tourism places                 232   \n",
       "A study of  Asian Religious and Biblical Texts               590   \n",
       "...                                                          ...   \n",
       "seeds                                                        210   \n",
       "seismic-bumps                                               2584   \n",
       "selfBACK                                                   26136   \n",
       "ser Knowledge Modeling Data (Students' Knowledg...           403   \n",
       "wiki4HE                                                      913   \n",
       "\n",
       "                                                   Num Attributes  Year  \\\n",
       "2.4 GHZ Indoor Channel Measurements                             5  2018   \n",
       "3D Road Network (North Jutland, Denmark)                        4  2013   \n",
       "3W dataset                                                      8  2019   \n",
       ": Simulated Data set of Iraqi tourism places                   16  2020   \n",
       "A study of  Asian Religious and Biblical Texts               8265  2019   \n",
       "...                                                           ...   ...   \n",
       "seeds                                                           7  2012   \n",
       "seismic-bumps                                                  19  2013   \n",
       "selfBACK                                                        6  2020   \n",
       "ser Knowledge Modeling Data (Students' Knowledg...              5  2013   \n",
       "wiki4HE                                                        53  2015   \n",
       "\n",
       "                                                                                                 Link  \\\n",
       "2.4 GHZ Indoor Channel Measurements                 https://archive.ics.uci.edu/ml/datasets/2.4+GH...   \n",
       "3D Road Network (North Jutland, Denmark)            https://archive.ics.uci.edu/ml/datasets/3D+Roa...   \n",
       "3W dataset                                          https://archive.ics.uci.edu/ml/datasets/3W+dat...   \n",
       ": Simulated Data set of Iraqi tourism places        https://archive.ics.uci.edu/ml/datasets/%3A+Si...   \n",
       "A study of  Asian Religious and Biblical Texts      https://archive.ics.uci.edu/ml/datasets/A+stud...   \n",
       "...                                                                                               ...   \n",
       "seeds                                                   https://archive.ics.uci.edu/ml/datasets/seeds   \n",
       "seismic-bumps                                       https://archive.ics.uci.edu/ml/datasets/seismi...   \n",
       "selfBACK                                             https://archive.ics.uci.edu/ml/datasets/selfBACK   \n",
       "ser Knowledge Modeling Data (Students' Knowledg...  https://archive.ics.uci.edu/ml/datasets/ser+Kn...   \n",
       "wiki4HE                                               https://archive.ics.uci.edu/ml/datasets/wiki4HE   \n",
       "\n",
       "                                                                                          Description  \n",
       "2.4 GHZ Indoor Channel Measurements                 Measurement of the S21,consists of 10 sweeps, ...  \n",
       "3D Road Network (North Jutland, Denmark)            3D road network with highly accurate elevation...  \n",
       "3W dataset                                          The first realistic and public dataset with ra...  \n",
       ": Simulated Data set of Iraqi tourism places        Simulated Data set of Iraqi tourism places wit...  \n",
       "A study of  Asian Religious and Biblical Texts      Mainly from Project Gutenberg, we combine Upan...  \n",
       "...                                                                                               ...  \n",
       "seeds                                               Measurements of geometrical properties of kern...  \n",
       "seismic-bumps                                       The data describe the problem of high energy (...  \n",
       "selfBACK                                            The SELFBACK dataset is a Human Activity Recog...  \n",
       "ser Knowledge Modeling Data (Students' Knowledg...  The dataset is about the users' learning activ...  \n",
       "wiki4HE                                             Survey of faculty members from two Spanish uni...  \n",
       "\n",
       "[569 rows x 8 columns]"
      ]
     },
     "execution_count": 152,
     "metadata": {},
     "output_type": "execute_result"
    }
   ],
   "source": [
    "final_data= pd.merge(halfdf,ohalfdf,how='inner' ,left_index=True, right_index=True)\n",
    "final_data"
   ]
  },
  {
   "cell_type": "markdown",
   "metadata": {},
   "source": [
    "salen 10 filas más, de seguro son bases con misspelling (porque halfdf y ohalfdf tienen 559 filas)\n",
    "\n"
   ]
  },
  {
   "cell_type": "markdown",
   "metadata": {},
   "source": [
    "-----"
   ]
  }
 ],
 "metadata": {
  "anaconda-cloud": {},
  "kernelspec": {
   "display_name": "Python 3",
   "language": "python",
   "name": "python3"
  },
  "language_info": {
   "codemirror_mode": {
    "name": "ipython",
    "version": 3
   },
   "file_extension": ".py",
   "mimetype": "text/x-python",
   "name": "python",
   "nbconvert_exporter": "python",
   "pygments_lexer": "ipython3",
   "version": "3.8.3"
  }
 },
 "nbformat": 4,
 "nbformat_minor": 1
}
